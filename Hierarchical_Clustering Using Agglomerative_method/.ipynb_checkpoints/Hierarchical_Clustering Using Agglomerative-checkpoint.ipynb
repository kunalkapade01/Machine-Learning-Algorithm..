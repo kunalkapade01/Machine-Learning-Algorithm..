{
 "cells": [
  {
   "cell_type": "code",
   "execution_count": 1,
   "metadata": {},
   "outputs": [],
   "source": [
    "import numpy as np\n",
    "import pandas as pd\n",
    "import matplotlib.pyplot as plt\n",
    "import scipy.cluster.hierarchy as sch"
   ]
  },
  {
   "cell_type": "code",
   "execution_count": 21,
   "metadata": {},
   "outputs": [],
   "source": [
    "data = np.random.randint(20, 99, 40)\n",
    "data2 = np.random.randint(20,99, 40)\n",
    "\n",
    "x = pd.DataFrame(data, columns=[\"col1\"])\n",
    "x[\"col2\"] = data2"
   ]
  },
  {
   "cell_type": "code",
   "execution_count": 22,
   "metadata": {},
   "outputs": [
    {
     "data": {
      "image/png": "[encoded data removed]",
      "text/plain": [
       "<Figure size 432x288 with 1 Axes>"
      ]
     },
     "metadata": {
      "needs_background": "light"
     },
     "output_type": "display_data"
    }
   ],
   "source": [
    "sch.dendrogram(sch.linkage(x, method='ward'))\n",
    "plt.axhline(100, linestyle='--', color='red')\n",
    "plt.show()"
   ]
  },
  {
   "cell_type": "markdown",
   "metadata": {},
   "source": [
    "# To draw dandrogram: Hierarchical clustering."
   ]
  },
  {
   "cell_type": "code",
   "execution_count": null,
   "metadata": {},
   "outputs": [],
   "source": [
    "             "
   ]
  },
  {
   "cell_type": "code",
   "execution_count": 4,
   "metadata": {},
   "outputs": [
    {
     "data": {
      "image/png": "[encoded data removed]",
      "text/plain": [
       "<Figure size 432x288 with 1 Axes>"
      ]
     },
     "metadata": {
      "needs_background": "light"
     },
     "output_type": "display_data"
    }
   ],
   "source": [
    "plt.scatter(x.iloc[:,0], x.iloc[:,1])\n",
    "plt.show()"
   ]
  },
  {
   "cell_type": "code",
   "execution_count": 5,
   "metadata": {},
   "outputs": [],
   "source": [
    "from sklearn.datasets import make_blobs\n"
   ]
  },
  {
   "cell_type": "code",
   "execution_count": 6,
   "metadata": {},
   "outputs": [
    {
     "data": {
      "text/plain": [
       "(array([[ 2.41019139,  4.02047408],\n",
       "        [ 4.99332371,  7.05002176],\n",
       "        [ 6.73591211,  7.43431875],\n",
       "        [ 4.16089069,  7.06377873],\n",
       "        [ 1.90830879,  5.14655971],\n",
       "        [ 3.09595612,  1.7848312 ],\n",
       "        [ 6.17774987,  7.03200602],\n",
       "        [ 1.66240475,  2.41473172],\n",
       "        [ 3.80067266,  5.25777259],\n",
       "        [ 5.82882072,  3.99899845],\n",
       "        [ 7.07673999,  7.45769054],\n",
       "        [ 2.62240397,  5.96574635],\n",
       "        [ 4.70531625,  6.43377931],\n",
       "        [ 1.9165508 ,  3.6778061 ],\n",
       "        [ 1.40217708,  3.47245699],\n",
       "        [ 6.65276854,  6.35553315],\n",
       "        [ 2.66061078,  3.31034708],\n",
       "        [ 0.85178729,  5.11434424],\n",
       "        [ 7.93321556,  5.93790529],\n",
       "        [ 1.74609592,  3.07325207],\n",
       "        [ 2.2424395 ,  1.29926437],\n",
       "        [ 3.34235637,  2.87785021],\n",
       "        [ 1.88508006,  5.24181779],\n",
       "        [ 5.40772776,  3.31230367],\n",
       "        [ 4.01593454,  4.91995654],\n",
       "        [ 5.48229079,  6.60412169],\n",
       "        [ 3.38050668,  7.73904634],\n",
       "        [-0.21853495,  2.35256922],\n",
       "        [ 5.2673709 ,  7.84274139],\n",
       "        [ 5.50590091,  4.41266391],\n",
       "        [ 2.03541635,  2.32205463],\n",
       "        [ 4.20317254,  7.41070962],\n",
       "        [ 2.71599654,  3.7254279 ],\n",
       "        [ 0.31824349,  1.21190575],\n",
       "        [ 3.51596857,  3.48691274],\n",
       "        [ 5.36585291,  6.23204487],\n",
       "        [ 0.84563976,  0.78666652],\n",
       "        [ 1.42811894,  2.89413768],\n",
       "        [ 4.45088923,  4.35859018],\n",
       "        [ 4.27239104,  4.0308235 ],\n",
       "        [ 5.70817655,  7.73414765],\n",
       "        [ 3.00094276,  2.948585  ],\n",
       "        [ 3.89473201,  5.51202216],\n",
       "        [ 2.1597877 ,  2.28373641],\n",
       "        [ 4.12276163,  6.68929209],\n",
       "        [ 2.75314283,  1.46527866],\n",
       "        [ 7.04168621,  4.37391878],\n",
       "        [ 5.60967952,  4.84587556],\n",
       "        [ 5.52284176,  6.46188243],\n",
       "        [ 5.05964128,  7.28360712],\n",
       "        [ 3.33583134,  3.31866529],\n",
       "        [ 4.86753115,  7.274291  ],\n",
       "        [ 2.63436019,  3.80555562],\n",
       "        [ 4.8799589 ,  7.88909461],\n",
       "        [ 2.55606037,  3.22271946],\n",
       "        [ 5.47123399,  6.63646291],\n",
       "        [ 0.47101452,  4.02921118],\n",
       "        [ 6.66750106,  7.04640264],\n",
       "        [ 3.5336489 ,  5.35622301],\n",
       "        [ 3.60212027,  3.74077648],\n",
       "        [ 2.64076111,  3.52733267],\n",
       "        [ 5.39630475,  7.36739289],\n",
       "        [ 2.00512708,  2.87977233],\n",
       "        [ 1.19301812,  5.87181939],\n",
       "        [ 3.33570243,  5.35133554],\n",
       "        [ 1.00279616,  2.28614371],\n",
       "        [ 2.21497595,  2.6156412 ],\n",
       "        [ 6.20223092,  6.6501656 ],\n",
       "        [ 3.46351874,  5.19792052],\n",
       "        [ 2.05052283,  2.85666259],\n",
       "        [ 5.04098819,  5.40470328],\n",
       "        [ 3.23646951,  5.24920321],\n",
       "        [ 6.56684364,  8.07733675],\n",
       "        [ 4.87196812,  3.55364056],\n",
       "        [ 4.5787231 ,  5.83641166],\n",
       "        [ 2.89732806,  4.21771756],\n",
       "        [ 5.87450433,  5.91148259],\n",
       "        [ 3.01251548,  2.08613085],\n",
       "        [ 5.2860319 ,  6.43811534],\n",
       "        [ 4.86171835,  8.05764229],\n",
       "        [ 6.76543014,  6.97148512],\n",
       "        [ 6.6660776 ,  8.40794848],\n",
       "        [ 2.83374124,  3.99043835],\n",
       "        [ 0.97046979,  4.20979645],\n",
       "        [ 4.03765596,  4.7538028 ],\n",
       "        [ 1.47159568,  2.96079083],\n",
       "        [ 3.74919729,  4.43485711],\n",
       "        [ 2.94357539,  3.35764423],\n",
       "        [ 2.5018723 ,  3.13884618],\n",
       "        [ 6.59590861,  4.96413796],\n",
       "        [ 3.31112131,  5.80263045],\n",
       "        [ 2.47298583,  2.31857412],\n",
       "        [ 5.11653791,  7.34569237],\n",
       "        [ 4.7943544 ,  6.61845516],\n",
       "        [ 6.05114919,  6.06402514],\n",
       "        [ 3.42818327,  4.39670089],\n",
       "        [ 3.53860506,  4.79863773],\n",
       "        [ 6.31450695,  4.51199554],\n",
       "        [ 2.23249044,  3.86761195],\n",
       "        [-1.14741652,  3.53513589]]),\n",
       " array([1, 2, 2, 2, 1, 0, 2, 0, 1, 1, 2, 1, 2, 0, 0, 2, 1, 0, 2, 0, 0, 0,\n",
       "        0, 1, 1, 2, 2, 0, 2, 1, 0, 2, 1, 0, 1, 1, 0, 0, 1, 1, 2, 0, 1, 0,\n",
       "        1, 0, 1, 2, 1, 2, 0, 2, 1, 2, 0, 1, 0, 2, 1, 1, 0, 2, 0, 0, 1, 0,\n",
       "        0, 2, 1, 0, 2, 1, 2, 1, 2, 1, 2, 0, 2, 2, 2, 2, 1, 0, 1, 0, 1, 0,\n",
       "        0, 2, 1, 0, 2, 2, 2, 1, 1, 2, 0, 0]))"
      ]
     },
     "execution_count": 6,
     "metadata": {},
     "output_type": "execute_result"
    }
   ],
   "source": [
    "data = make_blobs(n_features=2, n_samples=100, centers=[[2,3], [4,5], [6,7]], random_state=12)\n",
    "data"
   ]
  },
  {
   "cell_type": "code",
   "execution_count": 7,
   "metadata": {},
   "outputs": [],
   "source": [
    "x1 = data[0]\n",
    "y = data[1]"
   ]
  },
  {
   "cell_type": "code",
   "execution_count": 8,
   "metadata": {},
   "outputs": [],
   "source": [
    "from sklearn.cluster import AgglomerativeClustering"
   ]
  },
  {
   "cell_type": "code",
   "execution_count": 9,
   "metadata": {},
   "outputs": [],
   "source": [
    "agg =  AgglomerativeClustering(n_clusters=3)"
   ]
  },
  {
   "cell_type": "code",
   "execution_count": 10,
   "metadata": {},
   "outputs": [
    {
     "data": {
      "text/plain": [
       "AgglomerativeClustering(n_clusters=3)"
      ]
     },
     "execution_count": 10,
     "metadata": {},
     "output_type": "execute_result"
    }
   ],
   "source": [
    "agg"
   ]
  },
  {
   "cell_type": "code",
   "execution_count": 11,
   "metadata": {},
   "outputs": [],
   "source": [
    "y_pred = agg.fit_predict(x1)"
   ]
  },
  {
   "cell_type": "code",
   "execution_count": 12,
   "metadata": {},
   "outputs": [
    {
     "data": {
      "text/plain": [
       "array([0, 2, 2, 2, 0, 0, 2, 0, 1, 1, 2, 0, 2, 0, 0, 2, 0, 0, 1, 0, 0, 0,\n",
       "       0, 1, 1, 2, 2, 0, 2, 1, 0, 2, 0, 0, 0, 2, 0, 0, 1, 1, 2, 0, 1, 0,\n",
       "       2, 0, 1, 1, 2, 2, 0, 2, 0, 2, 0, 2, 0, 2, 1, 0, 0, 2, 0, 0, 1, 0,\n",
       "       0, 2, 1, 0, 2, 1, 2, 1, 2, 0, 2, 0, 2, 2, 2, 2, 0, 0, 1, 0, 1, 0,\n",
       "       0, 1, 1, 0, 2, 2, 2, 1, 1, 1, 0, 0], dtype=int64)"
      ]
     },
     "execution_count": 12,
     "metadata": {},
     "output_type": "execute_result"
    }
   ],
   "source": [
    "y_pred"
   ]
  },
  {
   "cell_type": "code",
   "execution_count": 13,
   "metadata": {},
   "outputs": [],
   "source": [
    "# so to convert this y_pred data into data[1]  i.e,output\n",
    "\n",
    "new_pred = []\n",
    "for i in y_pred:\n",
    "    if i==1:\n",
    "        new_pred.append(0)\n",
    "    if i==0:\n",
    "        new_pred.append(1)\n",
    "    else:\n",
    "        new_pred.append(i)"
   ]
  },
  {
   "cell_type": "code",
   "execution_count": 14,
   "metadata": {},
   "outputs": [
    {
     "data": {
      "text/plain": [
       "array([1, 2, 2, 2, 1, 1, 2, 1, 0, 1, 0, 1, 2, 1, 2, 1, 1, 2, 1, 1, 0, 1,\n",
       "       1, 1, 1, 1, 0, 1, 0, 1, 2, 2, 1, 2, 0, 1, 1, 2, 1, 1, 1, 2, 1, 1,\n",
       "       0, 1, 0, 1, 2, 1, 0, 1, 1, 2, 1, 0, 1, 0, 1, 2, 2, 1, 2, 1, 2, 1,\n",
       "       2, 1, 2, 0, 1, 1, 1, 2, 1, 1, 0, 1, 1, 1, 2, 0, 1, 1, 2, 0, 1, 2,\n",
       "       0, 1, 2, 1, 2, 1, 2, 2, 2, 2, 1, 1, 0, 1, 1, 0, 1, 1, 1, 0, 1, 0,\n",
       "       1, 1, 2, 2, 2, 0, 1, 0, 1, 0, 1, 1, 1], dtype=int64)"
      ]
     },
     "execution_count": 14,
     "metadata": {},
     "output_type": "execute_result"
    }
   ],
   "source": [
    "new_pred = np.array(new_pred)\n",
    "new_pred"
   ]
  },
  {
   "cell_type": "code",
   "execution_count": null,
   "metadata": {},
   "outputs": [],
   "source": []
  },
  {
   "cell_type": "code",
   "execution_count": 15,
   "metadata": {},
   "outputs": [],
   "source": [
    "from sklearn.metrics import accuracy_score, confusion_matrix, classification_report"
   ]
  },
  {
   "cell_type": "code",
   "execution_count": 18,
   "metadata": {},
   "outputs": [
    {
     "data": {
      "text/plain": [
       "0.82"
      ]
     },
     "execution_count": 18,
     "metadata": {},
     "output_type": "execute_result"
    }
   ],
   "source": [
    "accuracy_score(y, y_pred)"
   ]
  },
  {
   "cell_type": "code",
   "execution_count": null,
   "metadata": {},
   "outputs": [],
   "source": []
  },
  {
   "cell_type": "code",
   "execution_count": null,
   "metadata": {},
   "outputs": [],
   "source": []
  }
 ],
 "metadata": {
  "kernelspec": {
   "display_name": "Python 3",
   "language": "python",
   "name": "python3"
  },
  "language_info": {
   "codemirror_mode": {
    "name": "ipython",
    "version": 3
   },
   "file_extension": ".py",
   "mimetype": "text/x-python",
   "name": "python",
   "nbconvert_exporter": "python",
   "pygments_lexer": "ipython3",
   "version": "3.8.5"
  }
 },
 "nbformat": 4,
 "nbformat_minor": 4
}
