{
 "cells": [
  {
   "cell_type": "markdown",
   "metadata": {},
   "source": [
    "# KNN_from Scratch :"
   ]
  },
  {
   "cell_type": "markdown",
   "metadata": {},
   "source": [
    "- 𝐊-𝐍𝐞𝐚𝐫𝐞𝐬𝐭 𝐍𝐞𝐢𝐠𝐡𝐛𝐨𝐫𝐬 (𝐊𝐍𝐍) :"
   ]
  },
  {
   "cell_type": "code",
   "execution_count": 1,
   "metadata": {},
   "outputs": [],
   "source": [
    "import pandas as pd\n",
    "import numpy as np \n",
    "import matplotlib.pyplot as plt \n",
    "import warnings\n",
    "warnings.filterwarnings(\"ignore\")"
   ]
  },
  {
   "cell_type": "code",
   "execution_count": 2,
   "metadata": {},
   "outputs": [],
   "source": [
    "from sklearn.datasets import make_classification"
   ]
  },
  {
   "cell_type": "code",
   "execution_count": 3,
   "metadata": {},
   "outputs": [],
   "source": [
    "data = make_classification(n_samples=50, n_features=4, n_classes=2)"
   ]
  },
  {
   "cell_type": "code",
   "execution_count": 4,
   "metadata": {
    "scrolled": true
   },
   "outputs": [
    {
     "data": {
      "text/plain": [
       "(array([[-2.83421586e-01, -5.41161795e-01,  3.76176322e-01,\n",
       "          2.94693930e-01],\n",
       "        [-5.32638043e-01, -1.32835012e+00,  8.02990646e-01,\n",
       "          5.13131852e-01],\n",
       "        [ 4.75972160e-01, -1.12842688e+00, -3.32004994e-03,\n",
       "         -7.61161527e-01],\n",
       "        [ 1.06972248e-01,  8.48423439e-01, -3.40686702e-01,\n",
       "         -2.70362856e-02],\n",
       "        [-1.20320989e+00, -8.14669388e-01,  1.13960958e+00,\n",
       "          1.44485020e+00],\n",
       "        [-4.82137225e-01, -1.04524923e+00,  6.78379362e-01,\n",
       "          4.85020148e-01],\n",
       "        [ 1.25048958e+00,  1.63468776e+00, -1.42746418e+00,\n",
       "         -1.39863603e+00],\n",
       "        [-1.41661641e+00,  7.51422380e-01,  8.14076318e-01,\n",
       "          1.92468120e+00],\n",
       "        [-1.23595170e+00, -1.33707390e-01,  9.53727910e-01,\n",
       "          1.57606371e+00],\n",
       "        [ 7.28591812e-01, -1.32289873e+00, -1.29836956e-01,\n",
       "         -1.11228603e+00],\n",
       "        [-9.07690024e-01, -7.44037345e-01,  8.99644272e-01,\n",
       "          1.07306148e+00],\n",
       "        [ 5.74584693e-01, -1.24330313e+00, -4.06885691e-02,\n",
       "         -9.03318586e-01],\n",
       "        [ 4.27516331e-01, -1.26888580e+00,  7.57810892e-02,\n",
       "         -7.17043778e-01],\n",
       "        [-8.45069348e-01, -7.33278227e-01,  8.50093583e-01,\n",
       "          9.93729487e-01],\n",
       "        [-3.50760965e-01,  5.47841681e-01,  8.99700872e-02,\n",
       "          5.23844092e-01],\n",
       "        [ 2.20629990e+00,  2.57823622e+00, -2.42417753e+00,\n",
       "         -2.50766478e+00],\n",
       "        [ 4.35076599e-01, -1.51736667e+00,  1.46847654e-01,\n",
       "         -7.59266773e-01],\n",
       "        [ 2.55661027e+00,  2.89876539e+00, -2.78167886e+00,\n",
       "         -2.91743556e+00],\n",
       "        [-1.35292535e+00,  1.72899651e-02,  9.93509974e-01,\n",
       "          1.74661502e+00],\n",
       "        [-2.65092414e-01, -2.60083904e+00,  9.97987016e-01,\n",
       "          1.87077305e-03],\n",
       "        [ 3.74181211e-01, -3.53885222e-01, -1.67090086e-01,\n",
       "         -5.28691035e-01],\n",
       "        [-1.18247456e+00, -8.80012551e-01,  1.14445723e+00,\n",
       "          1.40957562e+00],\n",
       "        [ 1.03077272e+00,  1.47361167e-01, -8.06459260e-01,\n",
       "         -1.30973762e+00],\n",
       "        [-1.72982893e-01,  9.66795315e-01, -1.70514094e-01,\n",
       "          3.49386500e-01],\n",
       "        [-1.04075510e+00, -9.53872434e-01,  1.06261135e+00,\n",
       "          1.21720055e+00],\n",
       "        [-8.60304421e-01, -5.91655635e-01,  8.17655475e-01,\n",
       "          1.03188185e+00],\n",
       "        [-8.04591340e-01,  2.16079488e+00, -7.25172607e-02,\n",
       "          1.31978326e+00],\n",
       "        [ 7.94543603e-01, -2.79802066e-02, -5.77967984e-01,\n",
       "         -1.02807878e+00],\n",
       "        [ 4.56014588e-01,  1.68738410e+00, -8.57170963e-01,\n",
       "         -3.67415410e-01],\n",
       "        [-5.60294636e-02,  2.10864269e+00, -6.09081399e-01,\n",
       "          3.47830513e-01],\n",
       "        [-1.58098149e+00, -1.01136317e+00,  1.47918594e+00,\n",
       "          1.90621208e+00],\n",
       "        [ 1.34692993e+00,  2.13105956e-01, -1.06015323e+00,\n",
       "         -1.70877324e+00],\n",
       "        [-1.05299874e-01,  1.34102342e+00, -3.35920483e-01,\n",
       "          3.11031356e-01],\n",
       "        [ 1.77828165e+00,  2.20467241e+00, -1.99294626e+00,\n",
       "         -2.00463497e+00],\n",
       "        [-4.93491946e-01,  1.20567400e+00, -7.57356906e-03,\n",
       "          7.93846024e-01],\n",
       "        [-1.88751017e-01, -2.88859574e-01,  2.28455585e-01,\n",
       "          2.05607977e-01],\n",
       "        [-1.56786756e+00,  4.79057506e-01,  1.00975827e+00,\n",
       "          2.08409560e+00],\n",
       "        [ 6.03017594e-01, -9.24637634e-01, -1.59977976e-01,\n",
       "         -8.98329516e-01],\n",
       "        [ 1.02919411e+00, -6.25016820e-01, -5.67040538e-01,\n",
       "         -1.40864877e+00],\n",
       "        [-8.51413677e-01, -1.51076593e+00,  1.09460694e+00,\n",
       "          9.00295062e-01],\n",
       "        [ 4.58907627e-01,  5.97047912e-01, -5.22973919e-01,\n",
       "         -5.13647722e-01],\n",
       "        [-3.63470780e-01, -1.94242924e+00,  8.67520390e-01,\n",
       "          2.14763416e-01],\n",
       "        [-7.54079953e-01, -1.07323552e+00,  8.87783223e-01,\n",
       "          8.31983975e-01],\n",
       "        [ 1.58744129e+00,  2.25458228e+00, -1.86744740e+00,\n",
       "         -1.75205744e+00],\n",
       "        [ 1.54329937e+00,  8.65487559e-01, -1.40636799e+00,\n",
       "         -1.87669304e+00],\n",
       "        [-7.14982981e-01, -9.05911696e-01,  8.07304638e-01,\n",
       "          8.03443927e-01],\n",
       "        [ 1.33865240e+00,  1.61572371e+00, -1.48670361e+00,\n",
       "         -1.51478474e+00],\n",
       "        [ 1.22251347e+00,  1.19568839e+00, -1.27139296e+00,\n",
       "         -1.41994116e+00],\n",
       "        [ 1.89651389e+00,  2.06647827e+00, -2.03760689e+00,\n",
       "         -2.17513567e+00],\n",
       "        [ 1.19092798e+00,  1.53221619e+00, -1.35188167e+00,\n",
       "         -1.33523458e+00]]),\n",
       " array([0, 1, 0, 1, 1, 1, 0, 1, 1, 0, 1, 0, 0, 1, 1, 0, 0, 0, 1, 0, 0, 1,\n",
       "        0, 1, 1, 1, 1, 0, 1, 1, 1, 0, 1, 0, 1, 0, 1, 0, 0, 1, 0, 1, 1, 0,\n",
       "        0, 1, 0, 0, 0, 0]))"
      ]
     },
     "execution_count": 4,
     "metadata": {},
     "output_type": "execute_result"
    }
   ],
   "source": [
    "data"
   ]
  },
  {
   "cell_type": "code",
   "execution_count": 5,
   "metadata": {
    "scrolled": true
   },
   "outputs": [
    {
     "data": {
      "text/plain": [
       "array([[-0.28342159, -0.5411618 ],\n",
       "       [-0.53263804, -1.32835012],\n",
       "       [ 0.47597216, -1.12842688],\n",
       "       [ 0.10697225,  0.84842344],\n",
       "       [-1.20320989, -0.81466939],\n",
       "       [-0.48213723, -1.04524923],\n",
       "       [ 1.25048958,  1.63468776],\n",
       "       [-1.41661641,  0.75142238],\n",
       "       [-1.2359517 , -0.13370739],\n",
       "       [ 0.72859181, -1.32289873],\n",
       "       [-0.90769002, -0.74403735],\n",
       "       [ 0.57458469, -1.24330313],\n",
       "       [ 0.42751633, -1.2688858 ],\n",
       "       [-0.84506935, -0.73327823],\n",
       "       [-0.35076097,  0.54784168],\n",
       "       [ 2.2062999 ,  2.57823622],\n",
       "       [ 0.4350766 , -1.51736667],\n",
       "       [ 2.55661027,  2.89876539],\n",
       "       [-1.35292535,  0.01728997],\n",
       "       [-0.26509241, -2.60083904],\n",
       "       [ 0.37418121, -0.35388522],\n",
       "       [-1.18247456, -0.88001255],\n",
       "       [ 1.03077272,  0.14736117],\n",
       "       [-0.17298289,  0.96679531],\n",
       "       [-1.0407551 , -0.95387243],\n",
       "       [-0.86030442, -0.59165563],\n",
       "       [-0.80459134,  2.16079488],\n",
       "       [ 0.7945436 , -0.02798021],\n",
       "       [ 0.45601459,  1.6873841 ],\n",
       "       [-0.05602946,  2.10864269],\n",
       "       [-1.58098149, -1.01136317],\n",
       "       [ 1.34692993,  0.21310596],\n",
       "       [-0.10529987,  1.34102342],\n",
       "       [ 1.77828165,  2.20467241],\n",
       "       [-0.49349195,  1.205674  ],\n",
       "       [-0.18875102, -0.28885957],\n",
       "       [-1.56786756,  0.47905751],\n",
       "       [ 0.60301759, -0.92463763],\n",
       "       [ 1.02919411, -0.62501682],\n",
       "       [-0.85141368, -1.51076593],\n",
       "       [ 0.45890763,  0.59704791],\n",
       "       [-0.36347078, -1.94242924],\n",
       "       [-0.75407995, -1.07323552],\n",
       "       [ 1.58744129,  2.25458228],\n",
       "       [ 1.54329937,  0.86548756],\n",
       "       [-0.71498298, -0.9059117 ],\n",
       "       [ 1.3386524 ,  1.61572371],\n",
       "       [ 1.22251347,  1.19568839],\n",
       "       [ 1.89651389,  2.06647827],\n",
       "       [ 1.19092798,  1.53221619]])"
      ]
     },
     "execution_count": 5,
     "metadata": {},
     "output_type": "execute_result"
    }
   ],
   "source": [
    "x = data[0]\n",
    "x = x[:,:2]\n",
    "x"
   ]
  },
  {
   "cell_type": "code",
   "execution_count": 6,
   "metadata": {},
   "outputs": [
    {
     "data": {
      "text/plain": [
       "array([0, 1, 0, 1, 1, 1, 0, 1, 1, 0, 1, 0, 0, 1, 1, 0, 0, 0, 1, 0, 0, 1,\n",
       "       0, 1, 1, 1, 1, 0, 1, 1, 1, 0, 1, 0, 1, 0, 1, 0, 0, 1, 0, 1, 1, 0,\n",
       "       0, 1, 0, 0, 0, 0])"
      ]
     },
     "execution_count": 6,
     "metadata": {},
     "output_type": "execute_result"
    }
   ],
   "source": [
    "y = data[1]\n",
    "y"
   ]
  },
  {
   "cell_type": "code",
   "execution_count": 7,
   "metadata": {},
   "outputs": [],
   "source": [
    "new_p = np.array([0.54, -0.57])"
   ]
  },
  {
   "cell_type": "code",
   "execution_count": 8,
   "metadata": {},
   "outputs": [
    {
     "data": {
      "image/png": "[encoded data removed]",
      "text/plain": [
       "<Figure size 432x288 with 1 Axes>"
      ]
     },
     "metadata": {
      "needs_background": "light"
     },
     "output_type": "display_data"
    }
   ],
   "source": [
    "plt.scatter(x[y==0,0], x[y==0,1])\n",
    "plt.scatter(x[y==1,0], x[y==1,1])\n",
    "plt.scatter(new_p[0], new_p[1])\n",
    "plt.show()"
   ]
  },
  {
   "cell_type": "code",
   "execution_count": 9,
   "metadata": {},
   "outputs": [],
   "source": [
    "dist = np.sqrt((new_p[0] - x[:,0])**2 + (new_p[1] - x[:,1])**2)"
   ]
  },
  {
   "cell_type": "code",
   "execution_count": 10,
   "metadata": {
    "scrolled": true
   },
   "outputs": [
    {
     "data": {
      "text/plain": [
       "array([0.82392642, 1.31363894, 0.56208553, 1.48305026, 1.76029652,\n",
       "       1.12722063, 2.31634271, 2.36103894, 1.82875796, 0.77615937,\n",
       "       1.45811365, 0.67419078, 0.70787989, 1.39466013, 1.4293443 ,\n",
       "       3.56201441, 0.95315923, 4.01236218, 1.98193741, 2.18460088,\n",
       "       0.27239946, 1.75015039, 0.86917484, 1.69413236, 1.62669749,\n",
       "       1.40047186, 3.04387361, 0.59881375, 2.25894589, 2.74415338,\n",
       "       2.1664173 , 1.12445136, 2.01703308, 3.03844507, 2.05453735,\n",
       "       0.7811005 , 2.35449088, 0.3601931 , 0.4922781 , 1.67960488,\n",
       "       1.16986187, 1.64311334, 1.3884844 , 3.01254017, 1.75135209,\n",
       "       1.29916086, 2.32706549, 1.89300823, 2.96498695, 2.20068629])"
      ]
     },
     "execution_count": 10,
     "metadata": {},
     "output_type": "execute_result"
    }
   ],
   "source": [
    "dist"
   ]
  },
  {
   "cell_type": "code",
   "execution_count": 11,
   "metadata": {},
   "outputs": [],
   "source": [
    "k=5"
   ]
  },
  {
   "cell_type": "code",
   "execution_count": 12,
   "metadata": {},
   "outputs": [
    {
     "data": {
      "text/html": [
       "<div>\n",
       "<style scoped>\n",
       "    .dataframe tbody tr th:only-of-type {\n",
       "        vertical-align: middle;\n",
       "    }\n",
       "\n",
       "    .dataframe tbody tr th {\n",
       "        vertical-align: top;\n",
       "    }\n",
       "\n",
       "    .dataframe thead th {\n",
       "        text-align: right;\n",
       "    }\n",
       "</style>\n",
       "<table border=\"1\" class=\"dataframe\">\n",
       "  <thead>\n",
       "    <tr style=\"text-align: right;\">\n",
       "      <th></th>\n",
       "      <th>col_1</th>\n",
       "      <th>col_2</th>\n",
       "      <th>target</th>\n",
       "    </tr>\n",
       "  </thead>\n",
       "  <tbody>\n",
       "    <tr>\n",
       "      <th>0</th>\n",
       "      <td>-0.283422</td>\n",
       "      <td>-0.541162</td>\n",
       "      <td>0</td>\n",
       "    </tr>\n",
       "    <tr>\n",
       "      <th>1</th>\n",
       "      <td>-0.532638</td>\n",
       "      <td>-1.328350</td>\n",
       "      <td>1</td>\n",
       "    </tr>\n",
       "    <tr>\n",
       "      <th>2</th>\n",
       "      <td>0.475972</td>\n",
       "      <td>-1.128427</td>\n",
       "      <td>0</td>\n",
       "    </tr>\n",
       "    <tr>\n",
       "      <th>3</th>\n",
       "      <td>0.106972</td>\n",
       "      <td>0.848423</td>\n",
       "      <td>1</td>\n",
       "    </tr>\n",
       "    <tr>\n",
       "      <th>4</th>\n",
       "      <td>-1.203210</td>\n",
       "      <td>-0.814669</td>\n",
       "      <td>1</td>\n",
       "    </tr>\n",
       "  </tbody>\n",
       "</table>\n",
       "</div>"
      ],
      "text/plain": [
       "      col_1     col_2  target\n",
       "0 -0.283422 -0.541162       0\n",
       "1 -0.532638 -1.328350       1\n",
       "2  0.475972 -1.128427       0\n",
       "3  0.106972  0.848423       1\n",
       "4 -1.203210 -0.814669       1"
      ]
     },
     "execution_count": 12,
     "metadata": {},
     "output_type": "execute_result"
    }
   ],
   "source": [
    "df = pd.DataFrame(x, columns=[\"col_1\",\"col_2\"])\n",
    "df[\"target\"] = y\n",
    "df.head()"
   ]
  },
  {
   "cell_type": "code",
   "execution_count": 13,
   "metadata": {},
   "outputs": [],
   "source": [
    "new_df = df.copy()"
   ]
  },
  {
   "cell_type": "code",
   "execution_count": 14,
   "metadata": {},
   "outputs": [],
   "source": [
    "new_df[\"Dist\"] = dist "
   ]
  },
  {
   "cell_type": "code",
   "execution_count": 15,
   "metadata": {},
   "outputs": [
    {
     "data": {
      "text/html": [
       "<div>\n",
       "<style scoped>\n",
       "    .dataframe tbody tr th:only-of-type {\n",
       "        vertical-align: middle;\n",
       "    }\n",
       "\n",
       "    .dataframe tbody tr th {\n",
       "        vertical-align: top;\n",
       "    }\n",
       "\n",
       "    .dataframe thead th {\n",
       "        text-align: right;\n",
       "    }\n",
       "</style>\n",
       "<table border=\"1\" class=\"dataframe\">\n",
       "  <thead>\n",
       "    <tr style=\"text-align: right;\">\n",
       "      <th></th>\n",
       "      <th>col_1</th>\n",
       "      <th>col_2</th>\n",
       "      <th>target</th>\n",
       "      <th>Dist</th>\n",
       "    </tr>\n",
       "  </thead>\n",
       "  <tbody>\n",
       "    <tr>\n",
       "      <th>0</th>\n",
       "      <td>-0.283422</td>\n",
       "      <td>-0.541162</td>\n",
       "      <td>0</td>\n",
       "      <td>0.823926</td>\n",
       "    </tr>\n",
       "    <tr>\n",
       "      <th>1</th>\n",
       "      <td>-0.532638</td>\n",
       "      <td>-1.328350</td>\n",
       "      <td>1</td>\n",
       "      <td>1.313639</td>\n",
       "    </tr>\n",
       "    <tr>\n",
       "      <th>2</th>\n",
       "      <td>0.475972</td>\n",
       "      <td>-1.128427</td>\n",
       "      <td>0</td>\n",
       "      <td>0.562086</td>\n",
       "    </tr>\n",
       "    <tr>\n",
       "      <th>3</th>\n",
       "      <td>0.106972</td>\n",
       "      <td>0.848423</td>\n",
       "      <td>1</td>\n",
       "      <td>1.483050</td>\n",
       "    </tr>\n",
       "    <tr>\n",
       "      <th>4</th>\n",
       "      <td>-1.203210</td>\n",
       "      <td>-0.814669</td>\n",
       "      <td>1</td>\n",
       "      <td>1.760297</td>\n",
       "    </tr>\n",
       "  </tbody>\n",
       "</table>\n",
       "</div>"
      ],
      "text/plain": [
       "      col_1     col_2  target      Dist\n",
       "0 -0.283422 -0.541162       0  0.823926\n",
       "1 -0.532638 -1.328350       1  1.313639\n",
       "2  0.475972 -1.128427       0  0.562086\n",
       "3  0.106972  0.848423       1  1.483050\n",
       "4 -1.203210 -0.814669       1  1.760297"
      ]
     },
     "execution_count": 15,
     "metadata": {},
     "output_type": "execute_result"
    }
   ],
   "source": [
    "new_df.head()"
   ]
  },
  {
   "cell_type": "code",
   "execution_count": 16,
   "metadata": {},
   "outputs": [
    {
     "data": {
      "text/html": [
       "<div>\n",
       "<style scoped>\n",
       "    .dataframe tbody tr th:only-of-type {\n",
       "        vertical-align: middle;\n",
       "    }\n",
       "\n",
       "    .dataframe tbody tr th {\n",
       "        vertical-align: top;\n",
       "    }\n",
       "\n",
       "    .dataframe thead th {\n",
       "        text-align: right;\n",
       "    }\n",
       "</style>\n",
       "<table border=\"1\" class=\"dataframe\">\n",
       "  <thead>\n",
       "    <tr style=\"text-align: right;\">\n",
       "      <th></th>\n",
       "      <th>col_1</th>\n",
       "      <th>col_2</th>\n",
       "      <th>target</th>\n",
       "      <th>Dist</th>\n",
       "    </tr>\n",
       "  </thead>\n",
       "  <tbody>\n",
       "    <tr>\n",
       "      <th>20</th>\n",
       "      <td>0.374181</td>\n",
       "      <td>-0.353885</td>\n",
       "      <td>0</td>\n",
       "      <td>0.272399</td>\n",
       "    </tr>\n",
       "    <tr>\n",
       "      <th>37</th>\n",
       "      <td>0.603018</td>\n",
       "      <td>-0.924638</td>\n",
       "      <td>0</td>\n",
       "      <td>0.360193</td>\n",
       "    </tr>\n",
       "    <tr>\n",
       "      <th>38</th>\n",
       "      <td>1.029194</td>\n",
       "      <td>-0.625017</td>\n",
       "      <td>0</td>\n",
       "      <td>0.492278</td>\n",
       "    </tr>\n",
       "    <tr>\n",
       "      <th>2</th>\n",
       "      <td>0.475972</td>\n",
       "      <td>-1.128427</td>\n",
       "      <td>0</td>\n",
       "      <td>0.562086</td>\n",
       "    </tr>\n",
       "    <tr>\n",
       "      <th>27</th>\n",
       "      <td>0.794544</td>\n",
       "      <td>-0.027980</td>\n",
       "      <td>0</td>\n",
       "      <td>0.598814</td>\n",
       "    </tr>\n",
       "  </tbody>\n",
       "</table>\n",
       "</div>"
      ],
      "text/plain": [
       "       col_1     col_2  target      Dist\n",
       "20  0.374181 -0.353885       0  0.272399\n",
       "37  0.603018 -0.924638       0  0.360193\n",
       "38  1.029194 -0.625017       0  0.492278\n",
       "2   0.475972 -1.128427       0  0.562086\n",
       "27  0.794544 -0.027980       0  0.598814"
      ]
     },
     "execution_count": 16,
     "metadata": {},
     "output_type": "execute_result"
    }
   ],
   "source": [
    "new_df.sort_values(\"Dist\").head()"
   ]
  },
  {
   "cell_type": "code",
   "execution_count": 17,
   "metadata": {},
   "outputs": [],
   "source": [
    "new_p2 = np.array([1.4,-0.6])"
   ]
  },
  {
   "cell_type": "code",
   "execution_count": 18,
   "metadata": {},
   "outputs": [
    {
     "data": {
      "text/plain": [
       "array([ 1.4, -0.6])"
      ]
     },
     "execution_count": 18,
     "metadata": {},
     "output_type": "execute_result"
    }
   ],
   "source": [
    "new_p2"
   ]
  },
  {
   "cell_type": "code",
   "execution_count": 19,
   "metadata": {},
   "outputs": [],
   "source": [
    "dist2 = np.sqrt((new_p2[0] - x[:,0])**2 + (new_p2[1] - x[:,1])**2)"
   ]
  },
  {
   "cell_type": "code",
   "execution_count": 20,
   "metadata": {
    "scrolled": true
   },
   "outputs": [
    {
     "data": {
      "text/plain": [
       "array([1.68444952, 2.06532896, 1.06445405, 1.94161047, 2.61204607,\n",
       "       1.93408568, 2.23968363, 3.12404713, 2.67687694, 0.98659593,\n",
       "       2.31218079, 1.04649383, 1.18031043, 2.24902189, 2.09349098,\n",
       "       3.27891826, 1.33140481, 3.68498393, 2.82128426, 2.6030539 ,\n",
       "       1.0549297 , 2.5976108 , 0.83359312, 2.22016277, 2.46627475,\n",
       "       2.26031982, 3.53301732, 0.83293703, 2.47451702, 3.07518569,\n",
       "       3.00923085, 0.81483601, 2.45631831, 2.83006791, 2.6164423 ,\n",
       "       1.61893118, 3.15794284, 0.86056409, 0.37164882, 2.42865356,\n",
       "       1.52268794, 2.21629092, 2.20545059, 2.86072966, 1.47247699,\n",
       "       2.13699204, 2.21657283, 1.80443849, 2.71231127, 2.14244183])"
      ]
     },
     "execution_count": 20,
     "metadata": {},
     "output_type": "execute_result"
    }
   ],
   "source": [
    "dist2"
   ]
  },
  {
   "cell_type": "code",
   "execution_count": 21,
   "metadata": {},
   "outputs": [
    {
     "data": {
      "text/html": [
       "<div>\n",
       "<style scoped>\n",
       "    .dataframe tbody tr th:only-of-type {\n",
       "        vertical-align: middle;\n",
       "    }\n",
       "\n",
       "    .dataframe tbody tr th {\n",
       "        vertical-align: top;\n",
       "    }\n",
       "\n",
       "    .dataframe thead th {\n",
       "        text-align: right;\n",
       "    }\n",
       "</style>\n",
       "<table border=\"1\" class=\"dataframe\">\n",
       "  <thead>\n",
       "    <tr style=\"text-align: right;\">\n",
       "      <th></th>\n",
       "      <th>col_1</th>\n",
       "      <th>col_2</th>\n",
       "      <th>target</th>\n",
       "      <th>Dist</th>\n",
       "    </tr>\n",
       "  </thead>\n",
       "  <tbody>\n",
       "    <tr>\n",
       "      <th>0</th>\n",
       "      <td>-0.283422</td>\n",
       "      <td>-0.541162</td>\n",
       "      <td>0</td>\n",
       "      <td>1.684450</td>\n",
       "    </tr>\n",
       "    <tr>\n",
       "      <th>1</th>\n",
       "      <td>-0.532638</td>\n",
       "      <td>-1.328350</td>\n",
       "      <td>1</td>\n",
       "      <td>2.065329</td>\n",
       "    </tr>\n",
       "    <tr>\n",
       "      <th>2</th>\n",
       "      <td>0.475972</td>\n",
       "      <td>-1.128427</td>\n",
       "      <td>0</td>\n",
       "      <td>1.064454</td>\n",
       "    </tr>\n",
       "    <tr>\n",
       "      <th>3</th>\n",
       "      <td>0.106972</td>\n",
       "      <td>0.848423</td>\n",
       "      <td>1</td>\n",
       "      <td>1.941610</td>\n",
       "    </tr>\n",
       "    <tr>\n",
       "      <th>4</th>\n",
       "      <td>-1.203210</td>\n",
       "      <td>-0.814669</td>\n",
       "      <td>1</td>\n",
       "      <td>2.612046</td>\n",
       "    </tr>\n",
       "  </tbody>\n",
       "</table>\n",
       "</div>"
      ],
      "text/plain": [
       "      col_1     col_2  target      Dist\n",
       "0 -0.283422 -0.541162       0  1.684450\n",
       "1 -0.532638 -1.328350       1  2.065329\n",
       "2  0.475972 -1.128427       0  1.064454\n",
       "3  0.106972  0.848423       1  1.941610\n",
       "4 -1.203210 -0.814669       1  2.612046"
      ]
     },
     "execution_count": 21,
     "metadata": {},
     "output_type": "execute_result"
    }
   ],
   "source": [
    "new_df[\"Dist\"] = dist2\n",
    "new_df.head()"
   ]
  },
  {
   "cell_type": "code",
   "execution_count": 22,
   "metadata": {},
   "outputs": [
    {
     "data": {
      "text/html": [
       "<div>\n",
       "<style scoped>\n",
       "    .dataframe tbody tr th:only-of-type {\n",
       "        vertical-align: middle;\n",
       "    }\n",
       "\n",
       "    .dataframe tbody tr th {\n",
       "        vertical-align: top;\n",
       "    }\n",
       "\n",
       "    .dataframe thead th {\n",
       "        text-align: right;\n",
       "    }\n",
       "</style>\n",
       "<table border=\"1\" class=\"dataframe\">\n",
       "  <thead>\n",
       "    <tr style=\"text-align: right;\">\n",
       "      <th></th>\n",
       "      <th>col_1</th>\n",
       "      <th>col_2</th>\n",
       "      <th>target</th>\n",
       "      <th>Dist</th>\n",
       "    </tr>\n",
       "  </thead>\n",
       "  <tbody>\n",
       "    <tr>\n",
       "      <th>38</th>\n",
       "      <td>1.029194</td>\n",
       "      <td>-0.625017</td>\n",
       "      <td>0</td>\n",
       "      <td>0.371649</td>\n",
       "    </tr>\n",
       "    <tr>\n",
       "      <th>31</th>\n",
       "      <td>1.346930</td>\n",
       "      <td>0.213106</td>\n",
       "      <td>0</td>\n",
       "      <td>0.814836</td>\n",
       "    </tr>\n",
       "    <tr>\n",
       "      <th>27</th>\n",
       "      <td>0.794544</td>\n",
       "      <td>-0.027980</td>\n",
       "      <td>0</td>\n",
       "      <td>0.832937</td>\n",
       "    </tr>\n",
       "    <tr>\n",
       "      <th>22</th>\n",
       "      <td>1.030773</td>\n",
       "      <td>0.147361</td>\n",
       "      <td>0</td>\n",
       "      <td>0.833593</td>\n",
       "    </tr>\n",
       "    <tr>\n",
       "      <th>37</th>\n",
       "      <td>0.603018</td>\n",
       "      <td>-0.924638</td>\n",
       "      <td>0</td>\n",
       "      <td>0.860564</td>\n",
       "    </tr>\n",
       "  </tbody>\n",
       "</table>\n",
       "</div>"
      ],
      "text/plain": [
       "       col_1     col_2  target      Dist\n",
       "38  1.029194 -0.625017       0  0.371649\n",
       "31  1.346930  0.213106       0  0.814836\n",
       "27  0.794544 -0.027980       0  0.832937\n",
       "22  1.030773  0.147361       0  0.833593\n",
       "37  0.603018 -0.924638       0  0.860564"
      ]
     },
     "execution_count": 22,
     "metadata": {},
     "output_type": "execute_result"
    }
   ],
   "source": [
    "new_df.sort_values(\"Dist\").head()"
   ]
  },
  {
   "cell_type": "code",
   "execution_count": 23,
   "metadata": {},
   "outputs": [],
   "source": [
    "from sklearn.datasets import make_moons"
   ]
  },
  {
   "cell_type": "code",
   "execution_count": 24,
   "metadata": {},
   "outputs": [],
   "source": [
    "moon = make_moons(n_samples=300, noise=0.15)"
   ]
  },
  {
   "cell_type": "code",
   "execution_count": 25,
   "metadata": {
    "collapsed": true
   },
   "outputs": [
    {
     "data": {
      "text/plain": [
       "(array([[ 1.11492166e+00, -4.41831355e-01],\n",
       "        [-2.38981565e-01,  1.25805067e+00],\n",
       "        [ 6.18770308e-01,  1.00497849e+00],\n",
       "        [ 1.55993932e+00, -6.93014747e-02],\n",
       "        [-9.44984206e-01, -1.29130437e-01],\n",
       "        [-7.69900987e-01,  6.36120182e-01],\n",
       "        [ 1.25504636e+00, -5.64569696e-01],\n",
       "        [ 1.89603595e+00,  2.25999003e-01],\n",
       "        [ 1.25852927e+00, -4.55040577e-05],\n",
       "        [-5.48278360e-01,  5.91155422e-01],\n",
       "        [ 9.24742225e-01, -5.78682964e-01],\n",
       "        [-7.07033062e-01,  5.83281765e-01],\n",
       "        [-1.16378392e+00,  3.19958736e-01],\n",
       "        [ 1.00151417e+00,  3.50699878e-01],\n",
       "        [ 5.09982512e-01,  1.01571557e+00],\n",
       "        [-6.72933688e-02,  1.21854501e-01],\n",
       "        [ 2.01019272e+00,  6.68871566e-01],\n",
       "        [ 1.21741552e+00, -4.63135759e-01],\n",
       "        [-2.30382020e-01,  6.73383244e-01],\n",
       "        [-7.93107872e-01,  3.22124511e-01],\n",
       "        [ 1.49537471e+00, -6.43894404e-01],\n",
       "        [ 7.91674509e-01, -3.41014595e-01],\n",
       "        [ 8.27601901e-01, -3.88333708e-01],\n",
       "        [ 6.26429097e-01, -2.51007884e-01],\n",
       "        [-1.04860502e-01,  6.42700492e-02],\n",
       "        [ 3.54730163e-01, -4.60743322e-01],\n",
       "        [-1.06901812e+00,  2.04814574e-01],\n",
       "        [-1.01198953e+00,  1.55536819e-01],\n",
       "        [ 7.09626367e-01,  6.17251518e-01],\n",
       "        [-1.26179789e-01,  5.33633296e-01],\n",
       "        [ 7.52989420e-01,  5.61858245e-01],\n",
       "        [ 2.05939922e+00,  4.66251993e-01],\n",
       "        [ 2.42688091e-01, -3.24357216e-01],\n",
       "        [ 5.33369706e-02,  8.98770613e-01],\n",
       "        [-3.76432833e-01,  1.05625011e+00],\n",
       "        [ 1.16024728e+00, -4.09101568e-01],\n",
       "        [ 1.08093683e+00, -4.97896697e-01],\n",
       "        [ 1.78109909e+00, -1.44017214e-01],\n",
       "        [-2.87772372e-02, -1.55756526e-02],\n",
       "        [ 1.72754063e-01,  1.20904411e-01],\n",
       "        [ 9.64128277e-01,  8.14075649e-01],\n",
       "        [-1.77781614e-01,  3.97735103e-01],\n",
       "        [-7.33254158e-01,  7.69527100e-01],\n",
       "        [ 2.01494740e+00,  3.73723327e-01],\n",
       "        [ 1.45780536e-02,  1.43347085e-01],\n",
       "        [-7.39622809e-01,  3.54465606e-01],\n",
       "        [ 9.36393123e-01, -4.04277690e-01],\n",
       "        [ 5.90368987e-01, -3.21357024e-01],\n",
       "        [ 1.78801927e+00, -1.74749782e-01],\n",
       "        [ 1.59652477e-01,  9.18096641e-01],\n",
       "        [ 1.43497569e+00, -3.52274392e-01],\n",
       "        [-7.72250722e-01,  7.29902172e-01],\n",
       "        [ 1.84757359e+00,  2.96148116e-01],\n",
       "        [ 7.94706971e-01,  6.06814826e-01],\n",
       "        [-1.91049418e-02,  8.13319267e-01],\n",
       "        [ 6.39780663e-02,  8.09176904e-01],\n",
       "        [ 2.11654484e+00,  2.13547573e-01],\n",
       "        [ 9.41447069e-01, -5.72820854e-01],\n",
       "        [ 9.78985481e-01,  7.22780119e-01],\n",
       "        [ 3.87610417e-01,  1.08968291e+00],\n",
       "        [ 4.69642113e-01, -3.76317074e-02],\n",
       "        [ 9.26318298e-01, -4.61410853e-02],\n",
       "        [ 1.19525459e+00,  2.78965603e-01],\n",
       "        [ 2.67095518e-01,  2.70540305e-01],\n",
       "        [ 2.78814420e-01,  1.05883092e-01],\n",
       "        [ 1.11564961e-01,  1.42731906e-01],\n",
       "        [-6.73515067e-01,  7.14830171e-01],\n",
       "        [-7.41313315e-01,  2.57811083e-01],\n",
       "        [ 4.02645373e-01, -3.42533875e-01],\n",
       "        [ 1.91913849e+00, -2.44118421e-02],\n",
       "        [ 1.50072564e+00, -3.32912380e-01],\n",
       "        [ 5.51885620e-01,  1.08026068e+00],\n",
       "        [-4.57817756e-01,  8.47777931e-01],\n",
       "        [-3.46911919e-02,  5.36033777e-01],\n",
       "        [ 2.46553797e-01, -1.93355704e-01],\n",
       "        [ 8.96236583e-01,  1.04269459e-01],\n",
       "        [ 7.76314107e-01,  4.78067464e-01],\n",
       "        [ 6.38411631e-01,  4.32331104e-01],\n",
       "        [ 4.51698813e-02, -4.15123327e-02],\n",
       "        [ 1.76758137e-01,  7.56350134e-01],\n",
       "        [ 1.25159422e+00, -5.86734107e-01],\n",
       "        [ 8.43248349e-01, -3.25008537e-01],\n",
       "        [-6.44705369e-02,  3.08350114e-01],\n",
       "        [ 6.22606254e-02,  1.04206832e+00],\n",
       "        [ 1.30511760e+00, -6.16327457e-01],\n",
       "        [-7.66200081e-02,  2.67935322e-01],\n",
       "        [ 3.70516926e-01,  1.14192832e+00],\n",
       "        [ 1.98797371e+00,  1.66564543e-01],\n",
       "        [ 8.94885088e-01,  7.97164812e-01],\n",
       "        [ 8.07435231e-01, -4.33073413e-01],\n",
       "        [ 1.23141210e+00, -4.47692034e-01],\n",
       "        [-6.40624437e-02,  2.89200120e-01],\n",
       "        [ 2.07117006e+00, -2.36568603e-01],\n",
       "        [ 1.55978824e-01,  9.24175960e-01],\n",
       "        [-9.41217809e-01,  2.56075367e-01],\n",
       "        [-8.77507146e-01,  3.45845775e-02],\n",
       "        [ 1.76757852e+00,  1.82175589e-01],\n",
       "        [ 1.01962870e+00, -7.07987019e-01],\n",
       "        [ 1.94075204e+00, -3.36747958e-01],\n",
       "        [ 1.00422398e+00, -7.05168908e-01],\n",
       "        [-1.03597018e+00,  1.08619061e-01],\n",
       "        [-4.66132321e-01,  7.03346380e-01],\n",
       "        [-3.44047961e-01,  9.71091048e-01],\n",
       "        [ 1.65088726e+00, -1.10471112e-01],\n",
       "        [ 5.15631373e-01, -3.66940315e-01],\n",
       "        [-9.06240973e-01, -9.82285388e-02],\n",
       "        [ 6.06525582e-01, -3.96528731e-01],\n",
       "        [ 5.85144723e-01, -6.64631165e-01],\n",
       "        [-6.97197947e-01,  1.06895379e+00],\n",
       "        [-9.60333923e-01,  4.54523740e-01],\n",
       "        [ 4.26333414e-01,  1.02846628e+00],\n",
       "        [ 5.22261340e-02,  1.03320992e+00],\n",
       "        [ 5.45768074e-01,  9.38470389e-01],\n",
       "        [ 8.09905287e-01,  1.00789583e+00],\n",
       "        [ 8.65502367e-01,  8.06962101e-01],\n",
       "        [ 2.11064051e+00,  3.15275544e-01],\n",
       "        [ 4.16622892e-01, -6.19825268e-01],\n",
       "        [ 7.24247472e-02,  1.16609867e+00],\n",
       "        [-8.10760703e-01,  8.66735987e-01],\n",
       "        [-2.83858165e-02,  3.77230362e-01],\n",
       "        [ 5.74361822e-01,  1.17977207e+00],\n",
       "        [ 4.17965532e-02, -2.04841126e-01],\n",
       "        [ 1.56409612e+00, -1.73584293e-01],\n",
       "        [-9.45566065e-01,  8.87170478e-02],\n",
       "        [ 2.29117667e-02, -3.99186813e-02],\n",
       "        [-3.39643323e-01,  7.31546626e-01],\n",
       "        [-2.58904239e-01,  1.02221661e+00],\n",
       "        [ 9.31047297e-01,  6.17937940e-01],\n",
       "        [ 9.93877478e-01, -1.82592872e-01],\n",
       "        [ 2.49602225e-01, -3.65407893e-02],\n",
       "        [-4.84948087e-01,  7.57016080e-01],\n",
       "        [ 1.60957502e+00, -3.22633768e-01],\n",
       "        [ 1.99134468e+00,  2.68191206e-01],\n",
       "        [ 1.16178489e+00, -3.56112316e-01],\n",
       "        [ 8.72670417e-01, -7.33479682e-01],\n",
       "        [ 7.25056227e-01,  3.24947993e-01],\n",
       "        [ 1.61026500e-01,  1.22790069e+00],\n",
       "        [ 4.63510558e-01, -1.18962641e-01],\n",
       "        [ 1.74633831e+00,  3.40629718e-01],\n",
       "        [-7.21234562e-02,  2.57043583e-01],\n",
       "        [-3.43320529e-01,  9.87832454e-01],\n",
       "        [-6.96672263e-01,  7.56380926e-01],\n",
       "        [-1.46705624e+00,  1.48595977e-01],\n",
       "        [ 8.14244594e-01, -4.47189201e-01],\n",
       "        [ 1.59717400e+00, -3.70286744e-01],\n",
       "        [ 8.91993640e-01,  1.06617341e-01],\n",
       "        [ 3.36225866e-01, -1.10997323e-01],\n",
       "        [ 5.08125901e-02, -2.09946213e-01],\n",
       "        [ 8.86304214e-01,  4.27418393e-01],\n",
       "        [ 7.47374617e-01,  5.35378296e-01],\n",
       "        [ 4.83548131e-01,  1.20975379e+00],\n",
       "        [ 7.78239173e-01,  4.85604033e-01],\n",
       "        [ 4.56594515e-01, -2.10177366e-01],\n",
       "        [ 3.40362205e-01,  5.36431190e-01],\n",
       "        [ 6.99276495e-01,  6.03115146e-01],\n",
       "        [ 2.03365253e+00,  1.52069326e-01],\n",
       "        [-3.21654507e-02,  9.84193117e-01],\n",
       "        [-9.62643087e-01,  7.33747619e-02],\n",
       "        [ 1.17556002e+00, -5.73935936e-02],\n",
       "        [ 1.94275610e+00,  1.43046723e-01],\n",
       "        [ 4.57658168e-01, -4.56996954e-01],\n",
       "        [ 9.05538956e-01,  7.56821157e-01],\n",
       "        [ 1.37312600e+00, -4.38159389e-01],\n",
       "        [ 1.57595597e+00,  3.37858113e-01],\n",
       "        [ 8.12820473e-01,  5.20567309e-01],\n",
       "        [-1.42460869e-01,  1.11623124e+00],\n",
       "        [ 1.19771831e+00,  1.77815591e-01],\n",
       "        [ 8.03347514e-01, -5.54648339e-01],\n",
       "        [-5.83117679e-01,  6.74885905e-01],\n",
       "        [ 5.38806881e-01,  1.02767838e+00],\n",
       "        [-9.55030800e-01,  4.96936532e-01],\n",
       "        [ 6.69316777e-01, -3.35255655e-01],\n",
       "        [-3.93384448e-01,  4.91253789e-01],\n",
       "        [ 1.88045257e+00, -3.15454644e-01],\n",
       "        [-9.82527796e-01,  1.22839147e-01],\n",
       "        [ 1.64589899e+00, -1.78989174e-01],\n",
       "        [ 1.10286118e+00, -5.61133659e-01],\n",
       "        [ 1.75776665e+00, -7.24479803e-02],\n",
       "        [ 1.10147894e+00,  6.05963451e-02],\n",
       "        [ 9.88895226e-02,  5.41936820e-01],\n",
       "        [ 9.13839693e-01,  3.56269438e-01],\n",
       "        [-4.67685866e-01,  9.32358329e-01],\n",
       "        [-9.34630338e-01,  2.35351736e-01],\n",
       "        [-4.25695538e-02,  6.57157829e-01],\n",
       "        [-9.20331946e-02,  3.97728701e-01],\n",
       "        [ 1.25632926e-01,  1.10880690e+00],\n",
       "        [-6.29456722e-01,  6.51363764e-01],\n",
       "        [ 3.33432289e-01, -3.85115364e-01],\n",
       "        [-9.52862706e-01,  4.24799357e-01],\n",
       "        [-8.11395654e-01,  7.26026614e-01],\n",
       "        [ 1.71486683e-01,  8.55489257e-01],\n",
       "        [ 1.87234590e+00, -2.17323280e-01],\n",
       "        [ 1.65497584e+00, -1.48591238e-01],\n",
       "        [-8.83042325e-01,  6.39473224e-01],\n",
       "        [-3.04003719e-01,  1.01273270e+00],\n",
       "        [ 1.34983649e+00, -3.97248025e-01],\n",
       "        [ 2.37745959e-01,  1.34753696e-01],\n",
       "        [ 2.18717046e+00,  2.95290802e-01],\n",
       "        [ 6.37396914e-01,  1.03942524e+00],\n",
       "        [ 3.82533694e-02,  3.88810615e-01],\n",
       "        [ 7.19646527e-01, -1.59483174e-01],\n",
       "        [ 2.19800299e+00,  2.12313746e-01],\n",
       "        [ 9.45470037e-01, -4.26001198e-01],\n",
       "        [-5.67619957e-01,  3.85639336e-01],\n",
       "        [ 8.21618182e-01,  5.63221264e-01],\n",
       "        [ 1.04256582e+00,  1.32440543e-01],\n",
       "        [ 1.81816309e+00, -2.29523270e-02],\n",
       "        [ 5.02182464e-01, -1.68996291e-01],\n",
       "        [ 1.57130925e+00, -1.57145491e-01],\n",
       "        [-3.31400335e-01,  8.99432546e-01],\n",
       "        [ 2.02336676e+00,  8.16572017e-02],\n",
       "        [ 8.85448856e-01, -3.26309847e-01],\n",
       "        [ 1.93755852e+00,  2.43642844e-01],\n",
       "        [-7.13599375e-02,  1.77122069e-01],\n",
       "        [ 9.06089430e-01, -6.02177349e-01],\n",
       "        [-2.36609149e-01,  1.27115365e+00],\n",
       "        [ 5.01458744e-01,  2.30950612e-01],\n",
       "        [-1.00510885e+00,  6.79489303e-01],\n",
       "        [ 9.42100100e-01, -5.02036664e-01],\n",
       "        [ 1.58377310e+00, -4.99744400e-01],\n",
       "        [ 8.70609497e-01,  4.51982622e-01],\n",
       "        [-3.23087029e-01,  6.69430995e-01],\n",
       "        [ 4.22571979e-01,  8.41772264e-01],\n",
       "        [ 1.55880915e+00, -1.90153524e-01],\n",
       "        [ 7.66618829e-01,  6.08859315e-01],\n",
       "        [-2.19115361e-01,  1.12374991e+00],\n",
       "        [ 4.80345871e-01, -4.55614932e-01],\n",
       "        [ 9.56909455e-01,  7.05776139e-01],\n",
       "        [ 7.94634083e-01,  5.34182860e-01],\n",
       "        [ 6.96017142e-01,  8.51235083e-01],\n",
       "        [ 3.10090275e-02,  1.00089775e+00],\n",
       "        [ 8.41155895e-01, -5.75585581e-01],\n",
       "        [ 1.93969489e+00, -1.83808052e-01],\n",
       "        [-6.90606048e-01,  6.68647377e-01],\n",
       "        [-8.63286182e-02,  3.69474007e-01],\n",
       "        [ 3.53284845e-01,  7.23654023e-01],\n",
       "        [ 2.25711408e+00,  1.41056570e-01],\n",
       "        [ 2.54908697e-01,  1.00636933e+00],\n",
       "        [ 1.45817988e-01, -1.04086910e-01],\n",
       "        [ 1.62122805e+00, -4.02494131e-01],\n",
       "        [-9.23072909e-01,  4.03576984e-01],\n",
       "        [-1.73523867e-01,  8.82543946e-01],\n",
       "        [ 1.50496161e+00, -5.95813187e-01],\n",
       "        [ 4.33652521e-01, -6.21227330e-01],\n",
       "        [ 1.69785603e-01,  8.31833180e-01],\n",
       "        [ 1.77616366e+00, -2.43995736e-01],\n",
       "        [ 1.49963455e+00, -6.46068152e-01],\n",
       "        [ 7.60461847e-01,  8.91777257e-01],\n",
       "        [ 9.17194419e-01,  1.47488233e-01],\n",
       "        [ 1.95597852e+00,  2.40695076e-01],\n",
       "        [-9.64446054e-01,  1.55378802e-01],\n",
       "        [-2.52216577e-01,  9.72586569e-01],\n",
       "        [ 1.16056228e+00, -3.69304412e-01],\n",
       "        [-6.56376609e-01,  1.92201087e-01],\n",
       "        [ 1.75517558e+00,  2.74845707e-01],\n",
       "        [-4.18566720e-01,  1.00393734e+00],\n",
       "        [ 4.48451807e-01,  1.04988815e-02],\n",
       "        [ 6.57445748e-01, -7.64086349e-01],\n",
       "        [ 2.02195336e+00,  2.37559682e-01],\n",
       "        [-6.64217069e-02,  2.08349754e-01],\n",
       "        [ 6.28126171e-01,  1.16653130e+00],\n",
       "        [ 1.00835838e-01,  3.11685352e-01],\n",
       "        [ 2.97979182e-01,  1.14290831e+00],\n",
       "        [ 1.55383534e+00, -4.40368931e-01],\n",
       "        [-8.47006791e-01,  5.15016152e-01],\n",
       "        [ 1.10219363e-01,  7.10368246e-01],\n",
       "        [-5.36468486e-01,  9.75986476e-01],\n",
       "        [ 8.97937776e-01,  2.48710658e-01],\n",
       "        [ 7.75501250e-01, -7.94778650e-01],\n",
       "        [ 3.85055574e-01,  6.58415993e-01],\n",
       "        [ 8.69179868e-01, -5.82984785e-01],\n",
       "        [ 9.55071473e-01,  8.35545537e-02],\n",
       "        [-8.10338727e-01,  7.71008574e-01],\n",
       "        [-1.08488593e+00,  7.65217697e-02],\n",
       "        [-1.18099442e+00,  2.73931963e-01],\n",
       "        [ 4.10047268e-01, -3.09992606e-01],\n",
       "        [ 1.88794867e+00,  4.42853276e-01],\n",
       "        [-6.29275470e-03,  7.66135899e-01],\n",
       "        [ 1.59117440e+00, -3.03428251e-01],\n",
       "        [-5.32132614e-01,  1.14607010e+00],\n",
       "        [-6.37295860e-01,  7.00020551e-01],\n",
       "        [ 8.47131159e-01,  4.82711811e-01],\n",
       "        [ 1.62894380e+00, -3.84247421e-02],\n",
       "        [ 1.83683564e+00, -1.75790818e-01],\n",
       "        [ 9.10831173e-01,  2.05933626e-01],\n",
       "        [-1.11427507e+00,  7.35929466e-01],\n",
       "        [-4.43096725e-01,  6.54918213e-01],\n",
       "        [ 7.03149172e-01, -2.85290717e-01],\n",
       "        [ 5.55016550e-01, -7.20030228e-01],\n",
       "        [ 1.73601294e+00,  5.50049064e-01],\n",
       "        [ 1.78438562e+00, -4.21554853e-01],\n",
       "        [ 1.15821457e+00, -6.31131819e-01],\n",
       "        [ 9.44645400e-01,  6.06746865e-01],\n",
       "        [-1.00137610e+00,  2.05319207e-01],\n",
       "        [ 3.70409416e-01, -5.08342364e-01],\n",
       "        [-2.29502485e-01,  8.38777010e-01],\n",
       "        [ 1.53272861e+00, -2.54497321e-01],\n",
       "        [-7.07292351e-01,  6.92382748e-01],\n",
       "        [ 6.21139764e-01, -4.05279701e-01],\n",
       "        [ 1.98084924e+00, -4.77445268e-02]]),\n",
       " array([1, 0, 0, 1, 0, 0, 1, 1, 0, 0, 1, 0, 0, 0, 0, 1, 1, 1, 0, 0, 1, 1,\n",
       "        1, 1, 1, 1, 0, 0, 0, 1, 0, 1, 1, 0, 0, 1, 1, 1, 1, 1, 0, 1, 0, 1,\n",
       "        1, 0, 1, 1, 1, 0, 1, 0, 1, 0, 0, 0, 1, 1, 0, 0, 1, 0, 0, 1, 1, 1,\n",
       "        0, 0, 1, 1, 1, 0, 0, 1, 1, 0, 0, 0, 1, 0, 1, 1, 1, 0, 1, 1, 0, 1,\n",
       "        0, 1, 1, 1, 1, 0, 0, 0, 1, 1, 1, 1, 0, 0, 0, 1, 1, 0, 1, 1, 0, 0,\n",
       "        0, 0, 0, 0, 0, 1, 1, 0, 0, 1, 0, 1, 1, 0, 1, 0, 0, 0, 0, 1, 0, 1,\n",
       "        1, 1, 1, 0, 0, 1, 1, 1, 0, 0, 0, 1, 1, 0, 1, 1, 0, 0, 0, 0, 1, 0,\n",
       "        0, 1, 0, 0, 0, 1, 1, 0, 1, 1, 0, 0, 0, 1, 0, 0, 0, 1, 0, 1, 0, 1,\n",
       "        1, 1, 0, 1, 0, 0, 0, 1, 1, 0, 0, 1, 0, 0, 0, 1, 1, 0, 0, 1, 1, 1,\n",
       "        0, 1, 0, 1, 1, 0, 0, 0, 1, 1, 1, 0, 1, 1, 1, 1, 1, 0, 0, 0, 1, 1,\n",
       "        0, 0, 0, 1, 0, 0, 1, 0, 0, 0, 0, 1, 1, 0, 1, 0, 1, 0, 1, 1, 0, 0,\n",
       "        1, 1, 0, 1, 1, 0, 0, 1, 0, 0, 1, 0, 1, 0, 1, 1, 1, 1, 0, 1, 0, 1,\n",
       "        0, 1, 0, 0, 1, 0, 1, 0, 0, 0, 0, 1, 1, 0, 1, 0, 0, 0, 1, 1, 0, 0,\n",
       "        0, 1, 1, 1, 1, 1, 0, 0, 1, 0, 1, 0, 1, 1], dtype=int64))"
      ]
     },
     "execution_count": 25,
     "metadata": {},
     "output_type": "execute_result"
    }
   ],
   "source": [
    "moon "
   ]
  },
  {
   "cell_type": "code",
   "execution_count": 26,
   "metadata": {},
   "outputs": [
    {
     "data": {
      "text/html": [
       "<div>\n",
       "<style scoped>\n",
       "    .dataframe tbody tr th:only-of-type {\n",
       "        vertical-align: middle;\n",
       "    }\n",
       "\n",
       "    .dataframe tbody tr th {\n",
       "        vertical-align: top;\n",
       "    }\n",
       "\n",
       "    .dataframe thead th {\n",
       "        text-align: right;\n",
       "    }\n",
       "</style>\n",
       "<table border=\"1\" class=\"dataframe\">\n",
       "  <thead>\n",
       "    <tr style=\"text-align: right;\">\n",
       "      <th></th>\n",
       "      <th>col_1</th>\n",
       "      <th>col_2</th>\n",
       "      <th>target</th>\n",
       "    </tr>\n",
       "  </thead>\n",
       "  <tbody>\n",
       "    <tr>\n",
       "      <th>0</th>\n",
       "      <td>1.114922</td>\n",
       "      <td>-0.441831</td>\n",
       "      <td>1</td>\n",
       "    </tr>\n",
       "    <tr>\n",
       "      <th>1</th>\n",
       "      <td>-0.238982</td>\n",
       "      <td>1.258051</td>\n",
       "      <td>0</td>\n",
       "    </tr>\n",
       "    <tr>\n",
       "      <th>2</th>\n",
       "      <td>0.618770</td>\n",
       "      <td>1.004978</td>\n",
       "      <td>0</td>\n",
       "    </tr>\n",
       "    <tr>\n",
       "      <th>3</th>\n",
       "      <td>1.559939</td>\n",
       "      <td>-0.069301</td>\n",
       "      <td>1</td>\n",
       "    </tr>\n",
       "    <tr>\n",
       "      <th>4</th>\n",
       "      <td>-0.944984</td>\n",
       "      <td>-0.129130</td>\n",
       "      <td>0</td>\n",
       "    </tr>\n",
       "  </tbody>\n",
       "</table>\n",
       "</div>"
      ],
      "text/plain": [
       "      col_1     col_2  target\n",
       "0  1.114922 -0.441831       1\n",
       "1 -0.238982  1.258051       0\n",
       "2  0.618770  1.004978       0\n",
       "3  1.559939 -0.069301       1\n",
       "4 -0.944984 -0.129130       0"
      ]
     },
     "execution_count": 26,
     "metadata": {},
     "output_type": "execute_result"
    }
   ],
   "source": [
    "moon_df = pd.DataFrame(moon[0], columns=[\"col_1\",\"col_2\"])\n",
    "moon_df[\"target\"] = moon[1]\n",
    "moon_df.head()"
   ]
  },
  {
   "cell_type": "code",
   "execution_count": 27,
   "metadata": {},
   "outputs": [],
   "source": [
    "x = moon[0]\n",
    "y = moon[1]"
   ]
  },
  {
   "cell_type": "code",
   "execution_count": 28,
   "metadata": {},
   "outputs": [
    {
     "data": {
      "image/png": "[encoded data removed]",
      "text/plain": [
       "<Figure size 432x288 with 1 Axes>"
      ]
     },
     "metadata": {
      "needs_background": "light"
     },
     "output_type": "display_data"
    }
   ],
   "source": [
    "plt.scatter(x[y==0,0], x[y==0,1])\n",
    "plt.scatter(x[y==1,0], x[y==1,1])\n",
    "plt.show()"
   ]
  },
  {
   "cell_type": "code",
   "execution_count": 29,
   "metadata": {},
   "outputs": [],
   "source": [
    "from sklearn.model_selection import train_test_split"
   ]
  },
  {
   "cell_type": "code",
   "execution_count": 30,
   "metadata": {},
   "outputs": [],
   "source": [
    "x_tr, x_te, y_tr, y_te = train_test_split(x, y, train_size=0.75)"
   ]
  },
  {
   "cell_type": "code",
   "execution_count": 31,
   "metadata": {},
   "outputs": [],
   "source": [
    "from sklearn.neighbors import KNeighborsClassifier"
   ]
  },
  {
   "cell_type": "code",
   "execution_count": 32,
   "metadata": {},
   "outputs": [],
   "source": [
    "knn = KNeighborsClassifier(n_neighbors=int(np.sqrt(len(x_tr))))"
   ]
  },
  {
   "cell_type": "code",
   "execution_count": 33,
   "metadata": {},
   "outputs": [
    {
     "data": {
      "text/plain": [
       "KNeighborsClassifier(n_neighbors=15)"
      ]
     },
     "execution_count": 33,
     "metadata": {},
     "output_type": "execute_result"
    }
   ],
   "source": [
    "knn.fit(x_tr, y_tr)"
   ]
  },
  {
   "cell_type": "code",
   "execution_count": 34,
   "metadata": {},
   "outputs": [
    {
     "data": {
      "text/plain": [
       "0.9866666666666667"
      ]
     },
     "execution_count": 34,
     "metadata": {},
     "output_type": "execute_result"
    }
   ],
   "source": [
    "knn.score(x_tr, y_tr)"
   ]
  },
  {
   "cell_type": "code",
   "execution_count": 35,
   "metadata": {},
   "outputs": [],
   "source": [
    "y_pred = knn.predict(x_te)"
   ]
  },
  {
   "cell_type": "code",
   "execution_count": 36,
   "metadata": {},
   "outputs": [
    {
     "data": {
      "text/plain": [
       "array([0, 1, 1, 0, 1, 1, 0, 0, 0, 1, 1, 0, 0, 0, 1, 0, 1, 0, 1, 0, 0, 0,\n",
       "       0, 1, 1, 0, 1, 0, 1, 1, 0, 0, 1, 0, 0, 1, 0, 1, 0, 0, 1, 0, 0, 1,\n",
       "       0, 1, 0, 0, 1, 1, 0, 0, 1, 1, 0, 0, 0, 1, 0, 0, 1, 0, 0, 1, 0, 1,\n",
       "       0, 1, 0, 1, 0, 1, 1, 1, 1], dtype=int64)"
      ]
     },
     "execution_count": 36,
     "metadata": {},
     "output_type": "execute_result"
    }
   ],
   "source": [
    "y_pred"
   ]
  },
  {
   "cell_type": "code",
   "execution_count": 37,
   "metadata": {},
   "outputs": [],
   "source": [
    "from sklearn.metrics import accuracy_score, classification_report, confusion_matrix"
   ]
  },
  {
   "cell_type": "code",
   "execution_count": 41,
   "metadata": {},
   "outputs": [
    {
     "data": {
      "text/plain": [
       "0.9733333333333334"
      ]
     },
     "execution_count": 41,
     "metadata": {},
     "output_type": "execute_result"
    }
   ],
   "source": [
    " accuracy_score(y_pred, y_te)"
   ]
  },
  {
   "cell_type": "code",
   "execution_count": 42,
   "metadata": {},
   "outputs": [
    {
     "data": {
      "text/plain": [
       "array([[39,  2],\n",
       "       [ 0, 34]], dtype=int64)"
      ]
     },
     "execution_count": 42,
     "metadata": {},
     "output_type": "execute_result"
    }
   ],
   "source": [
    " confusion_matrix(y_pred, y_te)"
   ]
  },
  {
   "cell_type": "code",
   "execution_count": 43,
   "metadata": {},
   "outputs": [
    {
     "name": "stdout",
     "output_type": "stream",
     "text": [
      "              precision    recall  f1-score   support\n",
      "\n",
      "           0       1.00      0.95      0.97        41\n",
      "           1       0.94      1.00      0.97        34\n",
      "\n",
      "    accuracy                           0.97        75\n",
      "   macro avg       0.97      0.98      0.97        75\n",
      "weighted avg       0.97      0.97      0.97        75\n",
      "\n"
     ]
    }
   ],
   "source": [
    "print(classification_report(y_pred, y_te))"
   ]
  },
  {
   "cell_type": "code",
   "execution_count": null,
   "metadata": {},
   "outputs": [],
   "source": []
  }
 ],
 "metadata": {
  "kernelspec": {
   "display_name": "Python 3 (ipykernel)",
   "language": "python",
   "name": "python3"
  },
  "language_info": {
   "codemirror_mode": {
    "name": "ipython",
    "version": 3
   },
   "file_extension": ".py",
   "mimetype": "text/x-python",
   "name": "python",
   "nbconvert_exporter": "python",
   "pygments_lexer": "ipython3",
   "version": "3.11.5"
  }
 },
 "nbformat": 4,
 "nbformat_minor": 4
}
