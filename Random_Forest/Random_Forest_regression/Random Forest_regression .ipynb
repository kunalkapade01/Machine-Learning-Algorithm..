{
 "cells": [
  {
   "cell_type": "markdown",
   "metadata": {},
   "source": [
    "# Random Forest Regression :"
   ]
  },
  {
   "cell_type": "code",
   "execution_count": 1,
   "metadata": {},
   "outputs": [],
   "source": [
    "# Import libray :\n",
    "import pandas as pd\n",
    "import numpy as np\n",
    "import matplotlib.pyplot as plt"
   ]
  },
  {
   "cell_type": "code",
   "execution_count": 2,
   "metadata": {},
   "outputs": [],
   "source": [
    "# Import scikit-learn library :\n",
    "from sklearn.datasets import make_regression\n",
    "from sklearn.ensemble import RandomForestRegressor"
   ]
  },
  {
   "cell_type": "code",
   "execution_count": 3,
   "metadata": {},
   "outputs": [],
   "source": [
    "# Import warnings :\n",
    "import warnings\n",
    "warnings.filterwarnings(\"ignore\")"
   ]
  },
  {
   "cell_type": "code",
   "execution_count": 4,
   "metadata": {},
   "outputs": [],
   "source": [
    "# Make a data :\n",
    "data = make_regression(n_samples=100, n_features=2, n_targets=1, noise=3, random_state=23)"
   ]
  },
  {
   "cell_type": "code",
   "execution_count": 5,
   "metadata": {},
   "outputs": [
    {
     "data": {
      "text/plain": [
       "(array([[ 0.42062266,  0.41161964],\n",
       "        [-0.36754812, -1.13745969],\n",
       "        [-0.33161712, -1.63238628],\n",
       "        [ 0.01319381, -0.48521005],\n",
       "        [ 0.65361599, -0.7458128 ],\n",
       "        [-0.4170462 , -2.09724637],\n",
       "        [-1.76885535, -1.44383133],\n",
       "        [ 1.30678324,  0.54931008],\n",
       "        [ 0.17363364, -1.22325477],\n",
       "        [-0.34745899,  0.67014016],\n",
       "        [-1.08056475,  0.0102293 ],\n",
       "        [ 1.41531998,  0.45771098],\n",
       "        [ 1.8731981 , -0.50145597],\n",
       "        [ 0.67640316, -2.25588661],\n",
       "        [-0.76959905,  0.19211968],\n",
       "        [ 0.60619549, -0.02253889],\n",
       "        [-0.42084395, -0.55198856],\n",
       "        [ 0.53816197,  0.81211867],\n",
       "        [-0.16134639,  1.19240433],\n",
       "        [ 0.17081771, -0.7092539 ],\n",
       "        [ 0.67686012,  3.18750269],\n",
       "        [-0.20184052,  1.04537128],\n",
       "        [ 0.12374143, -0.87764021],\n",
       "        [-1.11984219,  0.43735754],\n",
       "        [ 0.15601287, -0.30459758],\n",
       "        [ 0.13141631,  1.60323411],\n",
       "        [ 0.09009394, -0.09394458],\n",
       "        [-0.13302459, -0.01735694],\n",
       "        [ 0.51213739,  0.13153847],\n",
       "        [ 2.15077995,  0.42514008],\n",
       "        [-2.01480815,  1.87089397],\n",
       "        [-1.19535974,  1.68204548],\n",
       "        [ 0.44115151, -0.81743933],\n",
       "        [ 0.25073655, -0.81361625],\n",
       "        [ 0.09345025,  1.79300305],\n",
       "        [ 0.45059596,  1.61745203],\n",
       "        [-0.54163878,  0.79379376],\n",
       "        [-0.19005312,  0.08129034],\n",
       "        [ 0.32354564, -1.10319346],\n",
       "        [-0.34236494, -0.62348638],\n",
       "        [-0.12109755,  0.19014136],\n",
       "        [ 0.01342226,  0.93594489],\n",
       "        [ 0.86374008,  0.34966652],\n",
       "        [-0.54778801, -0.67941827],\n",
       "        [-0.0265563 ,  0.62321928],\n",
       "        [ 1.04088597, -0.09403473],\n",
       "        [-0.23892329, -0.53739947],\n",
       "        [ 0.92099584,  1.93308983],\n",
       "        [ 0.43782968,  1.32778762],\n",
       "        [ 0.43789248,  0.09972328],\n",
       "        [-1.72325306,  0.4612592 ],\n",
       "        [ 1.19458124, -0.40034689],\n",
       "        [-0.48255948,  1.24461048],\n",
       "        [-1.76431364,  0.56650393],\n",
       "        [ 1.36048482, -1.56984254],\n",
       "        [-1.04345   , -1.00994188],\n",
       "        [ 0.32227152,  0.06034293],\n",
       "        [-0.13626676,  1.26724821],\n",
       "        [-0.1790356 ,  1.01105883],\n",
       "        [ 1.0654228 , -0.6055636 ],\n",
       "        [-0.07132392, -0.04543758],\n",
       "        [ 0.66698806,  0.02581308],\n",
       "        [-0.77761941,  0.94863382],\n",
       "        [ 0.70362363, -0.26814214],\n",
       "        [-1.33355413,  0.49605774],\n",
       "        [-0.94722245, -1.26157621],\n",
       "        [-2.38986578, -0.33327399],\n",
       "        [-0.79536322, -1.0115352 ],\n",
       "        [-2.50623032,  0.14696049],\n",
       "        [-1.90351511, -0.24362283],\n",
       "        [ 0.88638429, -0.24037977],\n",
       "        [ 0.87305874, -1.63096187],\n",
       "        [ 0.54878807, -0.61513498],\n",
       "        [-1.33286349,  1.63739122],\n",
       "        [ 0.61911407, -0.99257378],\n",
       "        [ 0.44173637,  1.12887685],\n",
       "        [ 1.23891913,  0.17291706],\n",
       "        [-0.76876598,  0.18915096],\n",
       "        [ 0.65199484,  0.56886022],\n",
       "        [ 0.22651174,  0.23389799],\n",
       "        [ 0.06540607,  1.22443067],\n",
       "        [-0.25114503,  1.59311063],\n",
       "        [ 0.70167179, -1.05108156],\n",
       "        [-0.00374142,  0.27196926],\n",
       "        [-1.08536678,  1.82337823],\n",
       "        [ 1.52239047,  1.3088177 ],\n",
       "        [-0.82293868, -1.59810911],\n",
       "        [ 0.2411063 , -0.95250953],\n",
       "        [ 0.72887584,  1.96843473],\n",
       "        [-1.32214752,  1.77225828],\n",
       "        [ 0.11583088,  0.66509522],\n",
       "        [-0.61218062, -0.73684211],\n",
       "        [-1.83806777, -0.93876863],\n",
       "        [ 0.73596624, -0.33493229],\n",
       "        [ 1.1717961 , -0.62858079],\n",
       "        [-0.19035824,  0.52538404],\n",
       "        [-0.10109291, -0.56403963],\n",
       "        [ 0.34351676, -2.02786082],\n",
       "        [-1.24850361, -0.35319261],\n",
       "        [ 0.18985569, -0.23206577]]),\n",
       " array([  40.86458861,  -97.15727623, -132.10689449,  -34.79877935,\n",
       "         -40.21880715, -170.39171687, -146.58944781,   63.07699117,\n",
       "         -93.8446564 ,   43.08121559,  -18.77327106,   61.96540434,\n",
       "          -1.04291608, -159.94230215,    2.80894597,    8.92599709,\n",
       "         -54.53612504,   71.07790937,   90.30680546,  -48.76126526,\n",
       "         260.79087629,   73.03197071,  -64.73153721,   16.82483001,\n",
       "         -18.59571571,  130.20502849,   -5.74657144,   -4.74572915,\n",
       "          18.41963035,   74.10485949,  108.8875805 ,  106.69325665,\n",
       "         -57.48334614,  -54.03793867,  146.46338214,  132.94103137,\n",
       "          48.64910054,    2.38626096,  -77.64148084,  -54.02267571,\n",
       "          16.10662181,   72.23163797,   45.02535032,  -60.60039414,\n",
       "          46.92764297,    7.98465233,  -46.4813533 ,  163.25872428,\n",
       "         107.64544485,   12.18888662,    2.95870469,  -10.1561288 ,\n",
       "          89.5446795 ,   14.73256725,  -97.56021417, -100.30699859,\n",
       "          13.1800801 ,   96.30419316,   73.99168877,  -29.51823499,\n",
       "          -5.4946487 ,   19.65937539,   61.11875995,   -7.28692891,\n",
       "          11.73082574, -118.2552419 ,  -75.23119317,  -95.65071452,\n",
       "         -38.53556658,  -55.66484331,   -5.53005011, -111.51229422,\n",
       "         -43.62477855,  104.40172642,  -64.92935347,   98.36348164,\n",
       "          40.38595173,   -6.95358745,   57.04765918,   17.65030782,\n",
       "          98.08215718,  117.12786423,  -67.68206407,   20.6429544 ,\n",
       "         117.4959685 ,  132.48238612, -137.79703992,  -65.67090056,\n",
       "         165.86446933,  109.54713954,   54.51559605,  -71.00408763,\n",
       "        -100.21142854,  -12.06604446,  -25.34156622,   33.47185073,\n",
       "         -46.51558105, -156.49070409,  -54.52663952,  -16.15363741]))"
      ]
     },
     "execution_count": 5,
     "metadata": {},
     "output_type": "execute_result"
    }
   ],
   "source": [
    "data"
   ]
  },
  {
   "cell_type": "code",
   "execution_count": 6,
   "metadata": {
    "scrolled": true
   },
   "outputs": [
    {
     "data": {
      "text/plain": [
       "array([[ 0.42062266,  0.41161964],\n",
       "       [-0.36754812, -1.13745969],\n",
       "       [-0.33161712, -1.63238628],\n",
       "       [ 0.01319381, -0.48521005],\n",
       "       [ 0.65361599, -0.7458128 ],\n",
       "       [-0.4170462 , -2.09724637],\n",
       "       [-1.76885535, -1.44383133],\n",
       "       [ 1.30678324,  0.54931008],\n",
       "       [ 0.17363364, -1.22325477],\n",
       "       [-0.34745899,  0.67014016],\n",
       "       [-1.08056475,  0.0102293 ],\n",
       "       [ 1.41531998,  0.45771098],\n",
       "       [ 1.8731981 , -0.50145597],\n",
       "       [ 0.67640316, -2.25588661],\n",
       "       [-0.76959905,  0.19211968],\n",
       "       [ 0.60619549, -0.02253889],\n",
       "       [-0.42084395, -0.55198856],\n",
       "       [ 0.53816197,  0.81211867],\n",
       "       [-0.16134639,  1.19240433],\n",
       "       [ 0.17081771, -0.7092539 ],\n",
       "       [ 0.67686012,  3.18750269],\n",
       "       [-0.20184052,  1.04537128],\n",
       "       [ 0.12374143, -0.87764021],\n",
       "       [-1.11984219,  0.43735754],\n",
       "       [ 0.15601287, -0.30459758],\n",
       "       [ 0.13141631,  1.60323411],\n",
       "       [ 0.09009394, -0.09394458],\n",
       "       [-0.13302459, -0.01735694],\n",
       "       [ 0.51213739,  0.13153847],\n",
       "       [ 2.15077995,  0.42514008],\n",
       "       [-2.01480815,  1.87089397],\n",
       "       [-1.19535974,  1.68204548],\n",
       "       [ 0.44115151, -0.81743933],\n",
       "       [ 0.25073655, -0.81361625],\n",
       "       [ 0.09345025,  1.79300305],\n",
       "       [ 0.45059596,  1.61745203],\n",
       "       [-0.54163878,  0.79379376],\n",
       "       [-0.19005312,  0.08129034],\n",
       "       [ 0.32354564, -1.10319346],\n",
       "       [-0.34236494, -0.62348638],\n",
       "       [-0.12109755,  0.19014136],\n",
       "       [ 0.01342226,  0.93594489],\n",
       "       [ 0.86374008,  0.34966652],\n",
       "       [-0.54778801, -0.67941827],\n",
       "       [-0.0265563 ,  0.62321928],\n",
       "       [ 1.04088597, -0.09403473],\n",
       "       [-0.23892329, -0.53739947],\n",
       "       [ 0.92099584,  1.93308983],\n",
       "       [ 0.43782968,  1.32778762],\n",
       "       [ 0.43789248,  0.09972328],\n",
       "       [-1.72325306,  0.4612592 ],\n",
       "       [ 1.19458124, -0.40034689],\n",
       "       [-0.48255948,  1.24461048],\n",
       "       [-1.76431364,  0.56650393],\n",
       "       [ 1.36048482, -1.56984254],\n",
       "       [-1.04345   , -1.00994188],\n",
       "       [ 0.32227152,  0.06034293],\n",
       "       [-0.13626676,  1.26724821],\n",
       "       [-0.1790356 ,  1.01105883],\n",
       "       [ 1.0654228 , -0.6055636 ],\n",
       "       [-0.07132392, -0.04543758],\n",
       "       [ 0.66698806,  0.02581308],\n",
       "       [-0.77761941,  0.94863382],\n",
       "       [ 0.70362363, -0.26814214],\n",
       "       [-1.33355413,  0.49605774],\n",
       "       [-0.94722245, -1.26157621],\n",
       "       [-2.38986578, -0.33327399],\n",
       "       [-0.79536322, -1.0115352 ],\n",
       "       [-2.50623032,  0.14696049],\n",
       "       [-1.90351511, -0.24362283],\n",
       "       [ 0.88638429, -0.24037977],\n",
       "       [ 0.87305874, -1.63096187],\n",
       "       [ 0.54878807, -0.61513498],\n",
       "       [-1.33286349,  1.63739122],\n",
       "       [ 0.61911407, -0.99257378],\n",
       "       [ 0.44173637,  1.12887685],\n",
       "       [ 1.23891913,  0.17291706],\n",
       "       [-0.76876598,  0.18915096],\n",
       "       [ 0.65199484,  0.56886022],\n",
       "       [ 0.22651174,  0.23389799],\n",
       "       [ 0.06540607,  1.22443067],\n",
       "       [-0.25114503,  1.59311063],\n",
       "       [ 0.70167179, -1.05108156],\n",
       "       [-0.00374142,  0.27196926],\n",
       "       [-1.08536678,  1.82337823],\n",
       "       [ 1.52239047,  1.3088177 ],\n",
       "       [-0.82293868, -1.59810911],\n",
       "       [ 0.2411063 , -0.95250953],\n",
       "       [ 0.72887584,  1.96843473],\n",
       "       [-1.32214752,  1.77225828],\n",
       "       [ 0.11583088,  0.66509522],\n",
       "       [-0.61218062, -0.73684211],\n",
       "       [-1.83806777, -0.93876863],\n",
       "       [ 0.73596624, -0.33493229],\n",
       "       [ 1.1717961 , -0.62858079],\n",
       "       [-0.19035824,  0.52538404],\n",
       "       [-0.10109291, -0.56403963],\n",
       "       [ 0.34351676, -2.02786082],\n",
       "       [-1.24850361, -0.35319261],\n",
       "       [ 0.18985569, -0.23206577]])"
      ]
     },
     "execution_count": 6,
     "metadata": {},
     "output_type": "execute_result"
    }
   ],
   "source": [
    "# Input\n",
    "data[0]"
   ]
  },
  {
   "cell_type": "code",
   "execution_count": 7,
   "metadata": {},
   "outputs": [
    {
     "data": {
      "text/plain": [
       "array([  40.86458861,  -97.15727623, -132.10689449,  -34.79877935,\n",
       "        -40.21880715, -170.39171687, -146.58944781,   63.07699117,\n",
       "        -93.8446564 ,   43.08121559,  -18.77327106,   61.96540434,\n",
       "         -1.04291608, -159.94230215,    2.80894597,    8.92599709,\n",
       "        -54.53612504,   71.07790937,   90.30680546,  -48.76126526,\n",
       "        260.79087629,   73.03197071,  -64.73153721,   16.82483001,\n",
       "        -18.59571571,  130.20502849,   -5.74657144,   -4.74572915,\n",
       "         18.41963035,   74.10485949,  108.8875805 ,  106.69325665,\n",
       "        -57.48334614,  -54.03793867,  146.46338214,  132.94103137,\n",
       "         48.64910054,    2.38626096,  -77.64148084,  -54.02267571,\n",
       "         16.10662181,   72.23163797,   45.02535032,  -60.60039414,\n",
       "         46.92764297,    7.98465233,  -46.4813533 ,  163.25872428,\n",
       "        107.64544485,   12.18888662,    2.95870469,  -10.1561288 ,\n",
       "         89.5446795 ,   14.73256725,  -97.56021417, -100.30699859,\n",
       "         13.1800801 ,   96.30419316,   73.99168877,  -29.51823499,\n",
       "         -5.4946487 ,   19.65937539,   61.11875995,   -7.28692891,\n",
       "         11.73082574, -118.2552419 ,  -75.23119317,  -95.65071452,\n",
       "        -38.53556658,  -55.66484331,   -5.53005011, -111.51229422,\n",
       "        -43.62477855,  104.40172642,  -64.92935347,   98.36348164,\n",
       "         40.38595173,   -6.95358745,   57.04765918,   17.65030782,\n",
       "         98.08215718,  117.12786423,  -67.68206407,   20.6429544 ,\n",
       "        117.4959685 ,  132.48238612, -137.79703992,  -65.67090056,\n",
       "        165.86446933,  109.54713954,   54.51559605,  -71.00408763,\n",
       "       -100.21142854,  -12.06604446,  -25.34156622,   33.47185073,\n",
       "        -46.51558105, -156.49070409,  -54.52663952,  -16.15363741])"
      ]
     },
     "execution_count": 7,
     "metadata": {},
     "output_type": "execute_result"
    }
   ],
   "source": [
    "# Output :\n",
    "data[1]"
   ]
  },
  {
   "cell_type": "code",
   "execution_count": 8,
   "metadata": {},
   "outputs": [],
   "source": [
    "x = data[0]\n",
    "y = data[1]"
   ]
  },
  {
   "cell_type": "code",
   "execution_count": 9,
   "metadata": {},
   "outputs": [
    {
     "data": {
      "text/html": [
       "<div>\n",
       "<style scoped>\n",
       "    .dataframe tbody tr th:only-of-type {\n",
       "        vertical-align: middle;\n",
       "    }\n",
       "\n",
       "    .dataframe tbody tr th {\n",
       "        vertical-align: top;\n",
       "    }\n",
       "\n",
       "    .dataframe thead th {\n",
       "        text-align: right;\n",
       "    }\n",
       "</style>\n",
       "<table border=\"1\" class=\"dataframe\">\n",
       "  <thead>\n",
       "    <tr style=\"text-align: right;\">\n",
       "      <th></th>\n",
       "      <th>col1</th>\n",
       "      <th>col2</th>\n",
       "      <th>Target</th>\n",
       "    </tr>\n",
       "  </thead>\n",
       "  <tbody>\n",
       "    <tr>\n",
       "      <th>0</th>\n",
       "      <td>0.420623</td>\n",
       "      <td>0.411620</td>\n",
       "      <td>40.864589</td>\n",
       "    </tr>\n",
       "    <tr>\n",
       "      <th>1</th>\n",
       "      <td>-0.367548</td>\n",
       "      <td>-1.137460</td>\n",
       "      <td>-97.157276</td>\n",
       "    </tr>\n",
       "    <tr>\n",
       "      <th>2</th>\n",
       "      <td>-0.331617</td>\n",
       "      <td>-1.632386</td>\n",
       "      <td>-132.106894</td>\n",
       "    </tr>\n",
       "    <tr>\n",
       "      <th>3</th>\n",
       "      <td>0.013194</td>\n",
       "      <td>-0.485210</td>\n",
       "      <td>-34.798779</td>\n",
       "    </tr>\n",
       "    <tr>\n",
       "      <th>4</th>\n",
       "      <td>0.653616</td>\n",
       "      <td>-0.745813</td>\n",
       "      <td>-40.218807</td>\n",
       "    </tr>\n",
       "  </tbody>\n",
       "</table>\n",
       "</div>"
      ],
      "text/plain": [
       "       col1      col2      Target\n",
       "0  0.420623  0.411620   40.864589\n",
       "1 -0.367548 -1.137460  -97.157276\n",
       "2 -0.331617 -1.632386 -132.106894\n",
       "3  0.013194 -0.485210  -34.798779\n",
       "4  0.653616 -0.745813  -40.218807"
      ]
     },
     "execution_count": 9,
     "metadata": {},
     "output_type": "execute_result"
    }
   ],
   "source": [
    "# Create a Dataframe :\n",
    "df = pd.DataFrame(x, columns=[\"col1\",\"col2\"])\n",
    "df[\"Target\"] = y\n",
    "df.head()"
   ]
  },
  {
   "cell_type": "code",
   "execution_count": 10,
   "metadata": {},
   "outputs": [
    {
     "data": {
      "text/plain": [
       "(100, 3)"
      ]
     },
     "execution_count": 10,
     "metadata": {},
     "output_type": "execute_result"
    }
   ],
   "source": [
    "df.shape"
   ]
  },
  {
   "cell_type": "code",
   "execution_count": 11,
   "metadata": {},
   "outputs": [
    {
     "data": {
      "image/png": "[encoded data removed]",
      "text/plain": [
       "<Figure size 900x500 with 1 Axes>"
      ]
     },
     "metadata": {},
     "output_type": "display_data"
    }
   ],
   "source": [
    "# Plot the graph :\n",
    "%matplotlib inline\n",
    "plt.figure(figsize=(9,5))\n",
    "plt.title(\"Col_1 vs Col_2\")\n",
    "plt.xlabel(\"y=0\")\n",
    "plt.ylabel(\"y=1\")\n",
    "plt.scatter(x[y==0, 0], x[y==0, 1], color=\"pink\", label=\"y=0\")\n",
    "plt.scatter(x[y==1, 0], x[y==1, 1], color=\"yellow\", label=\"y=1\")\n",
    "plt.show()"
   ]
  },
  {
   "cell_type": "code",
   "execution_count": 12,
   "metadata": {},
   "outputs": [
    {
     "data": {
      "text/plain": [
       "array([  40.86458861,  -97.15727623, -132.10689449,  -34.79877935,\n",
       "        -40.21880715, -170.39171687, -146.58944781,   63.07699117,\n",
       "        -93.8446564 ,   43.08121559,  -18.77327106,   61.96540434,\n",
       "         -1.04291608, -159.94230215,    2.80894597,    8.92599709,\n",
       "        -54.53612504,   71.07790937,   90.30680546,  -48.76126526,\n",
       "        260.79087629,   73.03197071,  -64.73153721,   16.82483001,\n",
       "        -18.59571571,  130.20502849,   -5.74657144,   -4.74572915,\n",
       "         18.41963035,   74.10485949,  108.8875805 ,  106.69325665,\n",
       "        -57.48334614,  -54.03793867,  146.46338214,  132.94103137,\n",
       "         48.64910054,    2.38626096,  -77.64148084,  -54.02267571,\n",
       "         16.10662181,   72.23163797,   45.02535032,  -60.60039414,\n",
       "         46.92764297,    7.98465233,  -46.4813533 ,  163.25872428,\n",
       "        107.64544485,   12.18888662,    2.95870469,  -10.1561288 ,\n",
       "         89.5446795 ,   14.73256725,  -97.56021417, -100.30699859,\n",
       "         13.1800801 ,   96.30419316,   73.99168877,  -29.51823499,\n",
       "         -5.4946487 ,   19.65937539,   61.11875995,   -7.28692891,\n",
       "         11.73082574, -118.2552419 ,  -75.23119317,  -95.65071452,\n",
       "        -38.53556658,  -55.66484331,   -5.53005011, -111.51229422,\n",
       "        -43.62477855,  104.40172642,  -64.92935347,   98.36348164,\n",
       "         40.38595173,   -6.95358745,   57.04765918,   17.65030782,\n",
       "         98.08215718,  117.12786423,  -67.68206407,   20.6429544 ,\n",
       "        117.4959685 ,  132.48238612, -137.79703992,  -65.67090056,\n",
       "        165.86446933,  109.54713954,   54.51559605,  -71.00408763,\n",
       "       -100.21142854,  -12.06604446,  -25.34156622,   33.47185073,\n",
       "        -46.51558105, -156.49070409,  -54.52663952,  -16.15363741])"
      ]
     },
     "execution_count": 12,
     "metadata": {},
     "output_type": "execute_result"
    }
   ],
   "source": [
    "y"
   ]
  },
  {
   "cell_type": "code",
   "execution_count": null,
   "metadata": {},
   "outputs": [],
   "source": []
  }
 ],
 "metadata": {
  "kernelspec": {
   "display_name": "Python 3 (ipykernel)",
   "language": "python",
   "name": "python3"
  },
  "language_info": {
   "codemirror_mode": {
    "name": "ipython",
    "version": 3
   },
   "file_extension": ".py",
   "mimetype": "text/x-python",
   "name": "python",
   "nbconvert_exporter": "python",
   "pygments_lexer": "ipython3",
   "version": "3.11.5"
  }
 },
 "nbformat": 4,
 "nbformat_minor": 4
}
